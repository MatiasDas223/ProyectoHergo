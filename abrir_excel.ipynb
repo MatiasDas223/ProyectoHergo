{
 "cells": [
  {
   "cell_type": "code",
   "execution_count": 3,
   "metadata": {},
   "outputs": [
    {
     "name": "stdout",
     "output_type": "stream",
     "text": [
      "Sheet 1\n"
     ]
    }
   ],
   "source": [
    "import xlrd\n",
    "\n",
    "# Ruta del archivo de Excel\n",
    "archivo_excel = \"C:\\\\Users\\\\Matias\\\\Downloads\\\\VaciosDesde1562023.xls\"\n",
    "\n",
    "# Abrir el archivo de Excel\n",
    "libro_excel = xlrd.open_workbook(archivo_excel)\n",
    "\n",
    "# Imprimir el nombre de las hojas en el archivo\n",
    "hojas = libro_excel.sheet_names()\n",
    "for hoja in hojas:\n",
    "    print(hoja)\n",
    "\n",
    "# Cerrar el archivo de Excel\n",
    "libro_excel.release_resources()\n",
    "del libro_excel\n"
   ]
  },
  {
   "cell_type": "code",
   "execution_count": 9,
   "metadata": {},
   "outputs": [
    {
     "name": "stdout",
     "output_type": "stream",
     "text": [
      "_locate_stream(Workbook): seen\n",
      "    0  5 4 4 4 4 4 4 4 4 4 4 4 4 4 4 4 4 4 4 4 \n",
      "   20  4 4 4 4 4 4 4 4 4 4 4 4 4 4 4 4 4 4 4 4 \n",
      "10420= 4 4 4 4 4 4 4 4 4 4 4 4 4 4 4 4 4 4 4 4 \n",
      "10440  4 4 4 4 4 4 4 4 4 4 4 4 4 4 4 4 4 4 4 3 \n",
      "10460  2 2 2 2 2 2 2 2 2 2 2 2 2 2 2 2 2 2 2 2 \n",
      "10520= 2 2 2 2 2 2 2 2 2 2 2 2 2 2 2 2 2 2 2 2 \n",
      "10540  2 2 2 \n"
     ]
    },
    {
     "ename": "CompDocError",
     "evalue": "Workbook corruption: seen[2] == 4",
     "output_type": "error",
     "traceback": [
      "\u001b[1;31m---------------------------------------------------------------------------\u001b[0m",
      "\u001b[1;31mCompDocError\u001b[0m                              Traceback (most recent call last)",
      "Cell \u001b[1;32mIn[9], line 11\u001b[0m\n\u001b[0;32m      8\u001b[0m archivo_excel_destino \u001b[39m=\u001b[39m \u001b[39m\"\u001b[39m\u001b[39mC:\u001b[39m\u001b[39m\\\\\u001b[39;00m\u001b[39mUsers\u001b[39m\u001b[39m\\\\\u001b[39;00m\u001b[39mMatias\u001b[39m\u001b[39m\\\\\u001b[39;00m\u001b[39mDownloads\u001b[39m\u001b[39m\\\\\u001b[39;00m\u001b[39mVaciosDesde1562023.xlsx\u001b[39m\u001b[39m\"\u001b[39m\n\u001b[0;32m     10\u001b[0m \u001b[39m# Abrir el archivo de Excel original\u001b[39;00m\n\u001b[1;32m---> 11\u001b[0m libro_excel \u001b[39m=\u001b[39m xlrd\u001b[39m.\u001b[39;49mopen_workbook(archivo_excel_original)\n\u001b[0;32m     13\u001b[0m \u001b[39m# Crear un nuevo archivo de Excel de destino\u001b[39;00m\n\u001b[0;32m     14\u001b[0m libro_destino \u001b[39m=\u001b[39m openpyxl\u001b[39m.\u001b[39mWorkbook()\n",
      "File \u001b[1;32mc:\\Users\\Matias\\AppData\\Local\\Programs\\Python\\Python311\\Lib\\site-packages\\xlrd\\__init__.py:172\u001b[0m, in \u001b[0;36mopen_workbook\u001b[1;34m(filename, logfile, verbosity, use_mmap, file_contents, encoding_override, formatting_info, on_demand, ragged_rows, ignore_workbook_corruption)\u001b[0m\n\u001b[0;32m    169\u001b[0m \u001b[39mif\u001b[39;00m file_format \u001b[39mand\u001b[39;00m file_format \u001b[39m!=\u001b[39m \u001b[39m'\u001b[39m\u001b[39mxls\u001b[39m\u001b[39m'\u001b[39m:\n\u001b[0;32m    170\u001b[0m     \u001b[39mraise\u001b[39;00m XLRDError(FILE_FORMAT_DESCRIPTIONS[file_format]\u001b[39m+\u001b[39m\u001b[39m'\u001b[39m\u001b[39m; not supported\u001b[39m\u001b[39m'\u001b[39m)\n\u001b[1;32m--> 172\u001b[0m bk \u001b[39m=\u001b[39m open_workbook_xls(\n\u001b[0;32m    173\u001b[0m     filename\u001b[39m=\u001b[39;49mfilename,\n\u001b[0;32m    174\u001b[0m     logfile\u001b[39m=\u001b[39;49mlogfile,\n\u001b[0;32m    175\u001b[0m     verbosity\u001b[39m=\u001b[39;49mverbosity,\n\u001b[0;32m    176\u001b[0m     use_mmap\u001b[39m=\u001b[39;49muse_mmap,\n\u001b[0;32m    177\u001b[0m     file_contents\u001b[39m=\u001b[39;49mfile_contents,\n\u001b[0;32m    178\u001b[0m     encoding_override\u001b[39m=\u001b[39;49mencoding_override,\n\u001b[0;32m    179\u001b[0m     formatting_info\u001b[39m=\u001b[39;49mformatting_info,\n\u001b[0;32m    180\u001b[0m     on_demand\u001b[39m=\u001b[39;49mon_demand,\n\u001b[0;32m    181\u001b[0m     ragged_rows\u001b[39m=\u001b[39;49mragged_rows,\n\u001b[0;32m    182\u001b[0m     ignore_workbook_corruption\u001b[39m=\u001b[39;49mignore_workbook_corruption,\n\u001b[0;32m    183\u001b[0m )\n\u001b[0;32m    185\u001b[0m \u001b[39mreturn\u001b[39;00m bk\n",
      "File \u001b[1;32mc:\\Users\\Matias\\AppData\\Local\\Programs\\Python\\Python311\\Lib\\site-packages\\xlrd\\book.py:68\u001b[0m, in \u001b[0;36mopen_workbook_xls\u001b[1;34m(filename, logfile, verbosity, use_mmap, file_contents, encoding_override, formatting_info, on_demand, ragged_rows, ignore_workbook_corruption)\u001b[0m\n\u001b[0;32m     66\u001b[0m bk \u001b[39m=\u001b[39m Book()\n\u001b[0;32m     67\u001b[0m \u001b[39mtry\u001b[39;00m:\n\u001b[1;32m---> 68\u001b[0m     bk\u001b[39m.\u001b[39;49mbiff2_8_load(\n\u001b[0;32m     69\u001b[0m         filename\u001b[39m=\u001b[39;49mfilename, file_contents\u001b[39m=\u001b[39;49mfile_contents,\n\u001b[0;32m     70\u001b[0m         logfile\u001b[39m=\u001b[39;49mlogfile, verbosity\u001b[39m=\u001b[39;49mverbosity, use_mmap\u001b[39m=\u001b[39;49muse_mmap,\n\u001b[0;32m     71\u001b[0m         encoding_override\u001b[39m=\u001b[39;49mencoding_override,\n\u001b[0;32m     72\u001b[0m         formatting_info\u001b[39m=\u001b[39;49mformatting_info,\n\u001b[0;32m     73\u001b[0m         on_demand\u001b[39m=\u001b[39;49mon_demand,\n\u001b[0;32m     74\u001b[0m         ragged_rows\u001b[39m=\u001b[39;49mragged_rows,\n\u001b[0;32m     75\u001b[0m         ignore_workbook_corruption\u001b[39m=\u001b[39;49mignore_workbook_corruption\n\u001b[0;32m     76\u001b[0m     )\n\u001b[0;32m     77\u001b[0m     t1 \u001b[39m=\u001b[39m perf_counter()\n\u001b[0;32m     78\u001b[0m     bk\u001b[39m.\u001b[39mload_time_stage_1 \u001b[39m=\u001b[39m t1 \u001b[39m-\u001b[39m t0\n",
      "File \u001b[1;32mc:\\Users\\Matias\\AppData\\Local\\Programs\\Python\\Python311\\Lib\\site-packages\\xlrd\\book.py:641\u001b[0m, in \u001b[0;36mBook.biff2_8_load\u001b[1;34m(self, filename, file_contents, logfile, verbosity, use_mmap, encoding_override, formatting_info, on_demand, ragged_rows, ignore_workbook_corruption)\u001b[0m\n\u001b[0;32m    637\u001b[0m cd \u001b[39m=\u001b[39m compdoc\u001b[39m.\u001b[39mCompDoc(\u001b[39mself\u001b[39m\u001b[39m.\u001b[39mfilestr, logfile\u001b[39m=\u001b[39m\u001b[39mself\u001b[39m\u001b[39m.\u001b[39mlogfile,\n\u001b[0;32m    638\u001b[0m                      ignore_workbook_corruption\u001b[39m=\u001b[39mignore_workbook_corruption)\n\u001b[0;32m    639\u001b[0m \u001b[39mfor\u001b[39;00m qname \u001b[39min\u001b[39;00m [\u001b[39m'\u001b[39m\u001b[39mWorkbook\u001b[39m\u001b[39m'\u001b[39m, \u001b[39m'\u001b[39m\u001b[39mBook\u001b[39m\u001b[39m'\u001b[39m]:\n\u001b[0;32m    640\u001b[0m     \u001b[39mself\u001b[39m\u001b[39m.\u001b[39mmem, \u001b[39mself\u001b[39m\u001b[39m.\u001b[39mbase, \u001b[39mself\u001b[39m\u001b[39m.\u001b[39mstream_len \u001b[39m=\u001b[39m \\\n\u001b[1;32m--> 641\u001b[0m                 cd\u001b[39m.\u001b[39;49mlocate_named_stream(UNICODE_LITERAL(qname))\n\u001b[0;32m    642\u001b[0m     \u001b[39mif\u001b[39;00m \u001b[39mself\u001b[39m\u001b[39m.\u001b[39mmem:\n\u001b[0;32m    643\u001b[0m         \u001b[39mbreak\u001b[39;00m\n",
      "File \u001b[1;32mc:\\Users\\Matias\\AppData\\Local\\Programs\\Python\\Python311\\Lib\\site-packages\\xlrd\\compdoc.py:398\u001b[0m, in \u001b[0;36mCompDoc.locate_named_stream\u001b[1;34m(self, qname)\u001b[0m\n\u001b[0;32m    395\u001b[0m     \u001b[39mraise\u001b[39;00m CompDocError(\u001b[39m\"\u001b[39m\u001b[39m%r\u001b[39;00m\u001b[39m stream length (\u001b[39m\u001b[39m%d\u001b[39;00m\u001b[39m bytes) > file data size (\u001b[39m\u001b[39m%d\u001b[39;00m\u001b[39m bytes)\u001b[39m\u001b[39m\"\u001b[39m\n\u001b[0;32m    396\u001b[0m         \u001b[39m%\u001b[39m (qname, d\u001b[39m.\u001b[39mtot_size, \u001b[39mself\u001b[39m\u001b[39m.\u001b[39mmem_data_len))\n\u001b[0;32m    397\u001b[0m \u001b[39mif\u001b[39;00m d\u001b[39m.\u001b[39mtot_size \u001b[39m>\u001b[39m\u001b[39m=\u001b[39m \u001b[39mself\u001b[39m\u001b[39m.\u001b[39mmin_size_std_stream:\n\u001b[1;32m--> 398\u001b[0m     result \u001b[39m=\u001b[39m \u001b[39mself\u001b[39;49m\u001b[39m.\u001b[39;49m_locate_stream(\n\u001b[0;32m    399\u001b[0m         \u001b[39mself\u001b[39;49m\u001b[39m.\u001b[39;49mmem, \u001b[39m512\u001b[39;49m, \u001b[39mself\u001b[39;49m\u001b[39m.\u001b[39;49mSAT, \u001b[39mself\u001b[39;49m\u001b[39m.\u001b[39;49msec_size, d\u001b[39m.\u001b[39;49mfirst_SID,\n\u001b[0;32m    400\u001b[0m         d\u001b[39m.\u001b[39;49mtot_size, qname, d\u001b[39m.\u001b[39;49mDID\u001b[39m+\u001b[39;49m\u001b[39m6\u001b[39;49m)\n\u001b[0;32m    401\u001b[0m     \u001b[39mif\u001b[39;00m \u001b[39mself\u001b[39m\u001b[39m.\u001b[39mDEBUG:\n\u001b[0;32m    402\u001b[0m         \u001b[39mprint\u001b[39m(\u001b[39m\"\u001b[39m\u001b[39m\\n\u001b[39;00m\u001b[39mseen\u001b[39m\u001b[39m\"\u001b[39m, file\u001b[39m=\u001b[39m\u001b[39mself\u001b[39m\u001b[39m.\u001b[39mlogfile)\n",
      "File \u001b[1;32mc:\\Users\\Matias\\AppData\\Local\\Programs\\Python\\Python311\\Lib\\site-packages\\xlrd\\compdoc.py:429\u001b[0m, in \u001b[0;36mCompDoc._locate_stream\u001b[1;34m(self, mem, base, sat, sec_size, start_sid, expected_stream_size, qname, seen_id)\u001b[0m\n\u001b[0;32m    427\u001b[0m     \u001b[39mif\u001b[39;00m \u001b[39mnot\u001b[39;00m \u001b[39mself\u001b[39m\u001b[39m.\u001b[39mignore_workbook_corruption:\n\u001b[0;32m    428\u001b[0m         \u001b[39mprint\u001b[39m(\u001b[39m\"\u001b[39m\u001b[39m_locate_stream(\u001b[39m\u001b[39m%s\u001b[39;00m\u001b[39m): seen\u001b[39m\u001b[39m\"\u001b[39m \u001b[39m%\u001b[39m qname, file\u001b[39m=\u001b[39m\u001b[39mself\u001b[39m\u001b[39m.\u001b[39mlogfile); dump_list(\u001b[39mself\u001b[39m\u001b[39m.\u001b[39mseen, \u001b[39m20\u001b[39m, \u001b[39mself\u001b[39m\u001b[39m.\u001b[39mlogfile)\n\u001b[1;32m--> 429\u001b[0m         \u001b[39mraise\u001b[39;00m CompDocError(\u001b[39m\"\u001b[39m\u001b[39m%s\u001b[39;00m\u001b[39m corruption: seen[\u001b[39m\u001b[39m%d\u001b[39;00m\u001b[39m] == \u001b[39m\u001b[39m%d\u001b[39;00m\u001b[39m\"\u001b[39m \u001b[39m%\u001b[39m (qname, s, \u001b[39mself\u001b[39m\u001b[39m.\u001b[39mseen[s]))\n\u001b[0;32m    430\u001b[0m \u001b[39mself\u001b[39m\u001b[39m.\u001b[39mseen[s] \u001b[39m=\u001b[39m seen_id\n\u001b[0;32m    431\u001b[0m tot_found \u001b[39m+\u001b[39m\u001b[39m=\u001b[39m \u001b[39m1\u001b[39m\n",
      "\u001b[1;31mCompDocError\u001b[0m: Workbook corruption: seen[2] == 4"
     ]
    }
   ],
   "source": [
    "import xlrd\n",
    "import openpyxl\n",
    "\n",
    "# Ruta del archivo de Excel original\n",
    "archivo_excel_original = \"C:\\\\Users\\\\Matias\\\\Downloads\\\\VaciosDesde1562023.xls\"\n",
    "\n",
    "# Ruta y nombre del archivo de Excel de destino\n",
    "archivo_excel_destino = \"C:\\\\Users\\\\Matias\\\\Downloads\\\\VaciosDesde1562023.xlsx\"\n",
    "\n",
    "# Abrir el archivo de Excel original\n",
    "libro_excel = xlrd.open_workbook(archivo_excel_original)\n",
    "\n",
    "# Crear un nuevo archivo de Excel de destino\n",
    "libro_destino = openpyxl.Workbook()\n",
    "\n",
    "# Copiar cada hoja del archivo original al archivo de destino\n",
    "for nombre_hoja in libro_excel.sheet_names():\n",
    "    hoja_original = libro_excel.sheet_by_name(nombre_hoja)\n",
    "    hoja_destino = libro_destino.create_sheet(title=nombre_hoja)\n",
    "\n",
    "    for fila in range(hoja_original.nrows):\n",
    "        for columna in range(hoja_original.ncols):\n",
    "            celda = hoja_original.cell_value(fila, columna)\n",
    "            hoja_destino.cell(row=fila+1, column=columna+1).value = celda\n",
    "\n",
    "# Guardar el archivo de Excel de destino como .xlsx\n",
    "libro_destino.save(archivo_excel_destino)\n",
    "\n",
    "# Cerrar los archivos de Excel\n",
    "libro_excel.release_resources()\n",
    "libro_destino.close()"
   ]
  },
  {
   "cell_type": "code",
   "execution_count": 10,
   "metadata": {},
   "outputs": [
    {
     "name": "stdout",
     "output_type": "stream",
     "text": [
      "_locate_stream(Workbook): seen\n",
      "    0  5 4 4 4 4 4 4 4 4 4 4 4 4 4 4 4 4 4 4 4 \n",
      "   20  4 4 4 4 4 4 4 4 4 4 4 4 4 4 4 4 4 4 4 4 \n",
      "10420= 4 4 4 4 4 4 4 4 4 4 4 4 4 4 4 4 4 4 4 4 \n",
      "10440  4 4 4 4 4 4 4 4 4 4 4 4 4 4 4 4 4 4 4 3 \n",
      "10460  2 2 2 2 2 2 2 2 2 2 2 2 2 2 2 2 2 2 2 2 \n",
      "10520= 2 2 2 2 2 2 2 2 2 2 2 2 2 2 2 2 2 2 2 2 \n",
      "10540  2 2 2 \n"
     ]
    },
    {
     "ename": "CompDocError",
     "evalue": "Workbook corruption: seen[2] == 4",
     "output_type": "error",
     "traceback": [
      "\u001b[1;31m---------------------------------------------------------------------------\u001b[0m",
      "\u001b[1;31mCompDocError\u001b[0m                              Traceback (most recent call last)",
      "Cell \u001b[1;32mIn[10], line 3\u001b[0m\n\u001b[0;32m      1\u001b[0m \u001b[39mimport\u001b[39;00m \u001b[39mpandas\u001b[39;00m \u001b[39mas\u001b[39;00m \u001b[39mpd\u001b[39;00m\n\u001b[0;32m      2\u001b[0m archivo_excel\u001b[39m=\u001b[39m \u001b[39m\"\u001b[39m\u001b[39mC:\u001b[39m\u001b[39m\\\\\u001b[39;00m\u001b[39mUsers\u001b[39m\u001b[39m\\\\\u001b[39;00m\u001b[39mMatias\u001b[39m\u001b[39m\\\\\u001b[39;00m\u001b[39mDownloads\u001b[39m\u001b[39m\\\\\u001b[39;00m\u001b[39mVaciosDesde1562023.xls\u001b[39m\u001b[39m\"\u001b[39m\n\u001b[1;32m----> 3\u001b[0m dataframe \u001b[39m=\u001b[39m pd\u001b[39m.\u001b[39;49mread_excel(archivo_excel)\n",
      "File \u001b[1;32mc:\\Users\\Matias\\AppData\\Local\\Programs\\Python\\Python311\\Lib\\site-packages\\pandas\\util\\_decorators.py:211\u001b[0m, in \u001b[0;36mdeprecate_kwarg.<locals>._deprecate_kwarg.<locals>.wrapper\u001b[1;34m(*args, **kwargs)\u001b[0m\n\u001b[0;32m    209\u001b[0m     \u001b[39melse\u001b[39;00m:\n\u001b[0;32m    210\u001b[0m         kwargs[new_arg_name] \u001b[39m=\u001b[39m new_arg_value\n\u001b[1;32m--> 211\u001b[0m \u001b[39mreturn\u001b[39;00m func(\u001b[39m*\u001b[39;49margs, \u001b[39m*\u001b[39;49m\u001b[39m*\u001b[39;49mkwargs)\n",
      "File \u001b[1;32mc:\\Users\\Matias\\AppData\\Local\\Programs\\Python\\Python311\\Lib\\site-packages\\pandas\\util\\_decorators.py:331\u001b[0m, in \u001b[0;36mdeprecate_nonkeyword_arguments.<locals>.decorate.<locals>.wrapper\u001b[1;34m(*args, **kwargs)\u001b[0m\n\u001b[0;32m    325\u001b[0m \u001b[39mif\u001b[39;00m \u001b[39mlen\u001b[39m(args) \u001b[39m>\u001b[39m num_allow_args:\n\u001b[0;32m    326\u001b[0m     warnings\u001b[39m.\u001b[39mwarn(\n\u001b[0;32m    327\u001b[0m         msg\u001b[39m.\u001b[39mformat(arguments\u001b[39m=\u001b[39m_format_argument_list(allow_args)),\n\u001b[0;32m    328\u001b[0m         \u001b[39mFutureWarning\u001b[39;00m,\n\u001b[0;32m    329\u001b[0m         stacklevel\u001b[39m=\u001b[39mfind_stack_level(),\n\u001b[0;32m    330\u001b[0m     )\n\u001b[1;32m--> 331\u001b[0m \u001b[39mreturn\u001b[39;00m func(\u001b[39m*\u001b[39;49margs, \u001b[39m*\u001b[39;49m\u001b[39m*\u001b[39;49mkwargs)\n",
      "File \u001b[1;32mc:\\Users\\Matias\\AppData\\Local\\Programs\\Python\\Python311\\Lib\\site-packages\\pandas\\io\\excel\\_base.py:482\u001b[0m, in \u001b[0;36mread_excel\u001b[1;34m(io, sheet_name, header, names, index_col, usecols, squeeze, dtype, engine, converters, true_values, false_values, skiprows, nrows, na_values, keep_default_na, na_filter, verbose, parse_dates, date_parser, thousands, decimal, comment, skipfooter, convert_float, mangle_dupe_cols, storage_options)\u001b[0m\n\u001b[0;32m    480\u001b[0m \u001b[39mif\u001b[39;00m \u001b[39mnot\u001b[39;00m \u001b[39misinstance\u001b[39m(io, ExcelFile):\n\u001b[0;32m    481\u001b[0m     should_close \u001b[39m=\u001b[39m \u001b[39mTrue\u001b[39;00m\n\u001b[1;32m--> 482\u001b[0m     io \u001b[39m=\u001b[39m ExcelFile(io, storage_options\u001b[39m=\u001b[39;49mstorage_options, engine\u001b[39m=\u001b[39;49mengine)\n\u001b[0;32m    483\u001b[0m \u001b[39melif\u001b[39;00m engine \u001b[39mand\u001b[39;00m engine \u001b[39m!=\u001b[39m io\u001b[39m.\u001b[39mengine:\n\u001b[0;32m    484\u001b[0m     \u001b[39mraise\u001b[39;00m \u001b[39mValueError\u001b[39;00m(\n\u001b[0;32m    485\u001b[0m         \u001b[39m\"\u001b[39m\u001b[39mEngine should not be specified when passing \u001b[39m\u001b[39m\"\u001b[39m\n\u001b[0;32m    486\u001b[0m         \u001b[39m\"\u001b[39m\u001b[39man ExcelFile - ExcelFile already has the engine set\u001b[39m\u001b[39m\"\u001b[39m\n\u001b[0;32m    487\u001b[0m     )\n",
      "File \u001b[1;32mc:\\Users\\Matias\\AppData\\Local\\Programs\\Python\\Python311\\Lib\\site-packages\\pandas\\io\\excel\\_base.py:1695\u001b[0m, in \u001b[0;36mExcelFile.__init__\u001b[1;34m(self, path_or_buffer, engine, storage_options)\u001b[0m\n\u001b[0;32m   1692\u001b[0m \u001b[39mself\u001b[39m\u001b[39m.\u001b[39mengine \u001b[39m=\u001b[39m engine\n\u001b[0;32m   1693\u001b[0m \u001b[39mself\u001b[39m\u001b[39m.\u001b[39mstorage_options \u001b[39m=\u001b[39m storage_options\n\u001b[1;32m-> 1695\u001b[0m \u001b[39mself\u001b[39m\u001b[39m.\u001b[39m_reader \u001b[39m=\u001b[39m \u001b[39mself\u001b[39;49m\u001b[39m.\u001b[39;49m_engines[engine](\u001b[39mself\u001b[39;49m\u001b[39m.\u001b[39;49m_io, storage_options\u001b[39m=\u001b[39;49mstorage_options)\n",
      "File \u001b[1;32mc:\\Users\\Matias\\AppData\\Local\\Programs\\Python\\Python311\\Lib\\site-packages\\pandas\\io\\excel\\_xlrd.py:35\u001b[0m, in \u001b[0;36mXlrdReader.__init__\u001b[1;34m(self, filepath_or_buffer, storage_options)\u001b[0m\n\u001b[0;32m     33\u001b[0m err_msg \u001b[39m=\u001b[39m \u001b[39m\"\u001b[39m\u001b[39mInstall xlrd >= 1.0.0 for Excel support\u001b[39m\u001b[39m\"\u001b[39m\n\u001b[0;32m     34\u001b[0m import_optional_dependency(\u001b[39m\"\u001b[39m\u001b[39mxlrd\u001b[39m\u001b[39m\"\u001b[39m, extra\u001b[39m=\u001b[39merr_msg)\n\u001b[1;32m---> 35\u001b[0m \u001b[39msuper\u001b[39;49m()\u001b[39m.\u001b[39;49m\u001b[39m__init__\u001b[39;49m(filepath_or_buffer, storage_options\u001b[39m=\u001b[39;49mstorage_options)\n",
      "File \u001b[1;32mc:\\Users\\Matias\\AppData\\Local\\Programs\\Python\\Python311\\Lib\\site-packages\\pandas\\io\\excel\\_base.py:545\u001b[0m, in \u001b[0;36mBaseExcelReader.__init__\u001b[1;34m(self, filepath_or_buffer, storage_options)\u001b[0m\n\u001b[0;32m    543\u001b[0m \u001b[39mself\u001b[39m\u001b[39m.\u001b[39mhandles\u001b[39m.\u001b[39mhandle\u001b[39m.\u001b[39mseek(\u001b[39m0\u001b[39m)\n\u001b[0;32m    544\u001b[0m \u001b[39mtry\u001b[39;00m:\n\u001b[1;32m--> 545\u001b[0m     \u001b[39mself\u001b[39m\u001b[39m.\u001b[39mbook \u001b[39m=\u001b[39m \u001b[39mself\u001b[39;49m\u001b[39m.\u001b[39;49mload_workbook(\u001b[39mself\u001b[39;49m\u001b[39m.\u001b[39;49mhandles\u001b[39m.\u001b[39;49mhandle)\n\u001b[0;32m    546\u001b[0m \u001b[39mexcept\u001b[39;00m \u001b[39mException\u001b[39;00m:\n\u001b[0;32m    547\u001b[0m     \u001b[39mself\u001b[39m\u001b[39m.\u001b[39mclose()\n",
      "File \u001b[1;32mc:\\Users\\Matias\\AppData\\Local\\Programs\\Python\\Python311\\Lib\\site-packages\\pandas\\io\\excel\\_xlrd.py:48\u001b[0m, in \u001b[0;36mXlrdReader.load_workbook\u001b[1;34m(self, filepath_or_buffer)\u001b[0m\n\u001b[0;32m     46\u001b[0m \u001b[39mif\u001b[39;00m \u001b[39mhasattr\u001b[39m(filepath_or_buffer, \u001b[39m\"\u001b[39m\u001b[39mread\u001b[39m\u001b[39m\"\u001b[39m):\n\u001b[0;32m     47\u001b[0m     data \u001b[39m=\u001b[39m filepath_or_buffer\u001b[39m.\u001b[39mread()\n\u001b[1;32m---> 48\u001b[0m     \u001b[39mreturn\u001b[39;00m open_workbook(file_contents\u001b[39m=\u001b[39;49mdata)\n\u001b[0;32m     49\u001b[0m \u001b[39melse\u001b[39;00m:\n\u001b[0;32m     50\u001b[0m     \u001b[39mreturn\u001b[39;00m open_workbook(filepath_or_buffer)\n",
      "File \u001b[1;32mc:\\Users\\Matias\\AppData\\Local\\Programs\\Python\\Python311\\Lib\\site-packages\\xlrd\\__init__.py:172\u001b[0m, in \u001b[0;36mopen_workbook\u001b[1;34m(filename, logfile, verbosity, use_mmap, file_contents, encoding_override, formatting_info, on_demand, ragged_rows, ignore_workbook_corruption)\u001b[0m\n\u001b[0;32m    169\u001b[0m \u001b[39mif\u001b[39;00m file_format \u001b[39mand\u001b[39;00m file_format \u001b[39m!=\u001b[39m \u001b[39m'\u001b[39m\u001b[39mxls\u001b[39m\u001b[39m'\u001b[39m:\n\u001b[0;32m    170\u001b[0m     \u001b[39mraise\u001b[39;00m XLRDError(FILE_FORMAT_DESCRIPTIONS[file_format]\u001b[39m+\u001b[39m\u001b[39m'\u001b[39m\u001b[39m; not supported\u001b[39m\u001b[39m'\u001b[39m)\n\u001b[1;32m--> 172\u001b[0m bk \u001b[39m=\u001b[39m open_workbook_xls(\n\u001b[0;32m    173\u001b[0m     filename\u001b[39m=\u001b[39;49mfilename,\n\u001b[0;32m    174\u001b[0m     logfile\u001b[39m=\u001b[39;49mlogfile,\n\u001b[0;32m    175\u001b[0m     verbosity\u001b[39m=\u001b[39;49mverbosity,\n\u001b[0;32m    176\u001b[0m     use_mmap\u001b[39m=\u001b[39;49muse_mmap,\n\u001b[0;32m    177\u001b[0m     file_contents\u001b[39m=\u001b[39;49mfile_contents,\n\u001b[0;32m    178\u001b[0m     encoding_override\u001b[39m=\u001b[39;49mencoding_override,\n\u001b[0;32m    179\u001b[0m     formatting_info\u001b[39m=\u001b[39;49mformatting_info,\n\u001b[0;32m    180\u001b[0m     on_demand\u001b[39m=\u001b[39;49mon_demand,\n\u001b[0;32m    181\u001b[0m     ragged_rows\u001b[39m=\u001b[39;49mragged_rows,\n\u001b[0;32m    182\u001b[0m     ignore_workbook_corruption\u001b[39m=\u001b[39;49mignore_workbook_corruption,\n\u001b[0;32m    183\u001b[0m )\n\u001b[0;32m    185\u001b[0m \u001b[39mreturn\u001b[39;00m bk\n",
      "File \u001b[1;32mc:\\Users\\Matias\\AppData\\Local\\Programs\\Python\\Python311\\Lib\\site-packages\\xlrd\\book.py:68\u001b[0m, in \u001b[0;36mopen_workbook_xls\u001b[1;34m(filename, logfile, verbosity, use_mmap, file_contents, encoding_override, formatting_info, on_demand, ragged_rows, ignore_workbook_corruption)\u001b[0m\n\u001b[0;32m     66\u001b[0m bk \u001b[39m=\u001b[39m Book()\n\u001b[0;32m     67\u001b[0m \u001b[39mtry\u001b[39;00m:\n\u001b[1;32m---> 68\u001b[0m     bk\u001b[39m.\u001b[39;49mbiff2_8_load(\n\u001b[0;32m     69\u001b[0m         filename\u001b[39m=\u001b[39;49mfilename, file_contents\u001b[39m=\u001b[39;49mfile_contents,\n\u001b[0;32m     70\u001b[0m         logfile\u001b[39m=\u001b[39;49mlogfile, verbosity\u001b[39m=\u001b[39;49mverbosity, use_mmap\u001b[39m=\u001b[39;49muse_mmap,\n\u001b[0;32m     71\u001b[0m         encoding_override\u001b[39m=\u001b[39;49mencoding_override,\n\u001b[0;32m     72\u001b[0m         formatting_info\u001b[39m=\u001b[39;49mformatting_info,\n\u001b[0;32m     73\u001b[0m         on_demand\u001b[39m=\u001b[39;49mon_demand,\n\u001b[0;32m     74\u001b[0m         ragged_rows\u001b[39m=\u001b[39;49mragged_rows,\n\u001b[0;32m     75\u001b[0m         ignore_workbook_corruption\u001b[39m=\u001b[39;49mignore_workbook_corruption\n\u001b[0;32m     76\u001b[0m     )\n\u001b[0;32m     77\u001b[0m     t1 \u001b[39m=\u001b[39m perf_counter()\n\u001b[0;32m     78\u001b[0m     bk\u001b[39m.\u001b[39mload_time_stage_1 \u001b[39m=\u001b[39m t1 \u001b[39m-\u001b[39m t0\n",
      "File \u001b[1;32mc:\\Users\\Matias\\AppData\\Local\\Programs\\Python\\Python311\\Lib\\site-packages\\xlrd\\book.py:641\u001b[0m, in \u001b[0;36mBook.biff2_8_load\u001b[1;34m(self, filename, file_contents, logfile, verbosity, use_mmap, encoding_override, formatting_info, on_demand, ragged_rows, ignore_workbook_corruption)\u001b[0m\n\u001b[0;32m    637\u001b[0m cd \u001b[39m=\u001b[39m compdoc\u001b[39m.\u001b[39mCompDoc(\u001b[39mself\u001b[39m\u001b[39m.\u001b[39mfilestr, logfile\u001b[39m=\u001b[39m\u001b[39mself\u001b[39m\u001b[39m.\u001b[39mlogfile,\n\u001b[0;32m    638\u001b[0m                      ignore_workbook_corruption\u001b[39m=\u001b[39mignore_workbook_corruption)\n\u001b[0;32m    639\u001b[0m \u001b[39mfor\u001b[39;00m qname \u001b[39min\u001b[39;00m [\u001b[39m'\u001b[39m\u001b[39mWorkbook\u001b[39m\u001b[39m'\u001b[39m, \u001b[39m'\u001b[39m\u001b[39mBook\u001b[39m\u001b[39m'\u001b[39m]:\n\u001b[0;32m    640\u001b[0m     \u001b[39mself\u001b[39m\u001b[39m.\u001b[39mmem, \u001b[39mself\u001b[39m\u001b[39m.\u001b[39mbase, \u001b[39mself\u001b[39m\u001b[39m.\u001b[39mstream_len \u001b[39m=\u001b[39m \\\n\u001b[1;32m--> 641\u001b[0m                 cd\u001b[39m.\u001b[39;49mlocate_named_stream(UNICODE_LITERAL(qname))\n\u001b[0;32m    642\u001b[0m     \u001b[39mif\u001b[39;00m \u001b[39mself\u001b[39m\u001b[39m.\u001b[39mmem:\n\u001b[0;32m    643\u001b[0m         \u001b[39mbreak\u001b[39;00m\n",
      "File \u001b[1;32mc:\\Users\\Matias\\AppData\\Local\\Programs\\Python\\Python311\\Lib\\site-packages\\xlrd\\compdoc.py:398\u001b[0m, in \u001b[0;36mCompDoc.locate_named_stream\u001b[1;34m(self, qname)\u001b[0m\n\u001b[0;32m    395\u001b[0m     \u001b[39mraise\u001b[39;00m CompDocError(\u001b[39m\"\u001b[39m\u001b[39m%r\u001b[39;00m\u001b[39m stream length (\u001b[39m\u001b[39m%d\u001b[39;00m\u001b[39m bytes) > file data size (\u001b[39m\u001b[39m%d\u001b[39;00m\u001b[39m bytes)\u001b[39m\u001b[39m\"\u001b[39m\n\u001b[0;32m    396\u001b[0m         \u001b[39m%\u001b[39m (qname, d\u001b[39m.\u001b[39mtot_size, \u001b[39mself\u001b[39m\u001b[39m.\u001b[39mmem_data_len))\n\u001b[0;32m    397\u001b[0m \u001b[39mif\u001b[39;00m d\u001b[39m.\u001b[39mtot_size \u001b[39m>\u001b[39m\u001b[39m=\u001b[39m \u001b[39mself\u001b[39m\u001b[39m.\u001b[39mmin_size_std_stream:\n\u001b[1;32m--> 398\u001b[0m     result \u001b[39m=\u001b[39m \u001b[39mself\u001b[39;49m\u001b[39m.\u001b[39;49m_locate_stream(\n\u001b[0;32m    399\u001b[0m         \u001b[39mself\u001b[39;49m\u001b[39m.\u001b[39;49mmem, \u001b[39m512\u001b[39;49m, \u001b[39mself\u001b[39;49m\u001b[39m.\u001b[39;49mSAT, \u001b[39mself\u001b[39;49m\u001b[39m.\u001b[39;49msec_size, d\u001b[39m.\u001b[39;49mfirst_SID,\n\u001b[0;32m    400\u001b[0m         d\u001b[39m.\u001b[39;49mtot_size, qname, d\u001b[39m.\u001b[39;49mDID\u001b[39m+\u001b[39;49m\u001b[39m6\u001b[39;49m)\n\u001b[0;32m    401\u001b[0m     \u001b[39mif\u001b[39;00m \u001b[39mself\u001b[39m\u001b[39m.\u001b[39mDEBUG:\n\u001b[0;32m    402\u001b[0m         \u001b[39mprint\u001b[39m(\u001b[39m\"\u001b[39m\u001b[39m\\n\u001b[39;00m\u001b[39mseen\u001b[39m\u001b[39m\"\u001b[39m, file\u001b[39m=\u001b[39m\u001b[39mself\u001b[39m\u001b[39m.\u001b[39mlogfile)\n",
      "File \u001b[1;32mc:\\Users\\Matias\\AppData\\Local\\Programs\\Python\\Python311\\Lib\\site-packages\\xlrd\\compdoc.py:429\u001b[0m, in \u001b[0;36mCompDoc._locate_stream\u001b[1;34m(self, mem, base, sat, sec_size, start_sid, expected_stream_size, qname, seen_id)\u001b[0m\n\u001b[0;32m    427\u001b[0m     \u001b[39mif\u001b[39;00m \u001b[39mnot\u001b[39;00m \u001b[39mself\u001b[39m\u001b[39m.\u001b[39mignore_workbook_corruption:\n\u001b[0;32m    428\u001b[0m         \u001b[39mprint\u001b[39m(\u001b[39m\"\u001b[39m\u001b[39m_locate_stream(\u001b[39m\u001b[39m%s\u001b[39;00m\u001b[39m): seen\u001b[39m\u001b[39m\"\u001b[39m \u001b[39m%\u001b[39m qname, file\u001b[39m=\u001b[39m\u001b[39mself\u001b[39m\u001b[39m.\u001b[39mlogfile); dump_list(\u001b[39mself\u001b[39m\u001b[39m.\u001b[39mseen, \u001b[39m20\u001b[39m, \u001b[39mself\u001b[39m\u001b[39m.\u001b[39mlogfile)\n\u001b[1;32m--> 429\u001b[0m         \u001b[39mraise\u001b[39;00m CompDocError(\u001b[39m\"\u001b[39m\u001b[39m%s\u001b[39;00m\u001b[39m corruption: seen[\u001b[39m\u001b[39m%d\u001b[39;00m\u001b[39m] == \u001b[39m\u001b[39m%d\u001b[39;00m\u001b[39m\"\u001b[39m \u001b[39m%\u001b[39m (qname, s, \u001b[39mself\u001b[39m\u001b[39m.\u001b[39mseen[s]))\n\u001b[0;32m    430\u001b[0m \u001b[39mself\u001b[39m\u001b[39m.\u001b[39mseen[s] \u001b[39m=\u001b[39m seen_id\n\u001b[0;32m    431\u001b[0m tot_found \u001b[39m+\u001b[39m\u001b[39m=\u001b[39m \u001b[39m1\u001b[39m\n",
      "\u001b[1;31mCompDocError\u001b[0m: Workbook corruption: seen[2] == 4"
     ]
    }
   ],
   "source": [
    "import pandas as pd\n",
    "archivo_excel= \"C:\\\\Users\\\\Matias\\\\Downloads\\\\VaciosDesde1562023.xls\"\n",
    "dataframe = pd.read_excel(archivo_excel)"
   ]
  },
  {
   "cell_type": "code",
   "execution_count": 15,
   "metadata": {},
   "outputs": [],
   "source": [
    "import os\n",
    "import time\n",
    "import pyautogui\n",
    "\n",
    "archivo_excel = \"C:\\\\Users\\\\Matias\\\\Downloads\\\\VaciosDesde1562023.xls\"\n",
    "\n",
    "# Comando para abrir el archivo de Excel en Windows\n",
    "comando = 'start excel \"{}\"'.format(archivo_excel)\n",
    "\n",
    "# Ejecutar el comando en Windows\n",
    "os.system(comando)\n",
    "\n",
    "# Esperar unos segundos para asegurarse de que Excel esté abierto y listo\n",
    "time.sleep(5)\n",
    "\n",
    "# Realizar combinación de teclas para guardar el archivo en Excel\n",
    "pyautogui.hotkey('ctrl', 's')\n",
    "\n",
    "# Esperar unos segundos para que aparezca el cuadro de diálogo de guardar\n",
    "time.sleep(2)\n",
    "\n",
    "# Escribir el nombre del archivo de destino\n",
    "nombre_archivo = \"C:\\\\Users\\\\Matias\\\\Downloads\\\\VaciosDesde1562023.xlsx\"\n",
    "pyautogui.typewrite(nombre_archivo)\n",
    "\n",
    "# Presionar Enter para guardar el archivo\n",
    "pyautogui.press('enter')\n",
    "\n"
   ]
  },
  {
   "cell_type": "code",
   "execution_count": 17,
   "metadata": {},
   "outputs": [],
   "source": [
    "import os\n",
    "import win32com.client as win32\n",
    "\n",
    "# Ruta del archivo de Excel original\n",
    "archivo_excel = \"C:\\\\Users\\\\Matias\\\\Downloads\\\\VaciosDesde1562023.xls\"\n",
    "\n",
    "# Crear una instancia de Excel\n",
    "excel = win32.gencache.EnsureDispatch(\"Excel.Application\")\n",
    "\n",
    "# Abrir el archivo de Excel\n",
    "libro_excel = excel.Workbooks.Open(os.path.abspath(archivo_excel))\n",
    "\n",
    "# Realizar las operaciones necesarias en el archivo\n",
    "\n",
    "# Ruta y nombre del archivo de Excel de destino\n",
    "archivo_excel_destino = \"C:\\\\Users\\\\Matias\\\\Downloads\\\\VaciosDesde1562023.xlsx\"\n",
    "\n",
    "# Guardar el archivo de Excel con otro nombre y ubicación\n",
    "libro_excel.SaveAs(os.path.abspath(archivo_excel_destino))\n",
    "\n",
    "# Cerrar el archivo de Excel\n",
    "libro_excel.Close()\n",
    "\n",
    "# Cerrar la instancia de Excel\n",
    "excel.Quit()\n"
   ]
  },
  {
   "cell_type": "code",
   "execution_count": 24,
   "metadata": {},
   "outputs": [],
   "source": [
    "import glob\n",
    "\n",
    "directorio_archivos = 'C:\\\\Users\\\\Matias\\\\Downloads'\n",
    "\n",
    "patron_archivo = os.path.join(directorio_archivos, 'Vacios*.xls')\n",
    "\n",
    "archivos = glob.glob(patron_archivo)"
   ]
  },
  {
   "cell_type": "code",
   "execution_count": 28,
   "metadata": {},
   "outputs": [],
   "source": [
    "archivo_excel_original = archivos[0]\n",
    "\n",
    "archivo_excel_destino = archivo_excel_original + \"x\"\n"
   ]
  },
  {
   "cell_type": "code",
   "execution_count": 8,
   "metadata": {},
   "outputs": [
    {
     "data": {
      "text/plain": [
       "CompletedProcess(args='powershell -c \"$excel = New-Object -ComObject Excel.Application; $workbook = $excel.Workbooks.Open(\\'C:\\\\Users\\\\Matias\\\\Downloads\\\\VaciosDesde1562023.xls\\'); $workbook.SaveAs(\\'C:\\\\Users\\\\Matias\\\\Downloads\\\\VaciosDesde1562023.xlsx\\', 51); $excel.Quit()\"', returncode=0)"
      ]
     },
     "execution_count": 8,
     "metadata": {},
     "output_type": "execute_result"
    }
   ],
   "source": [
    "# PUEDE QUE TENGAMOS ALGO ACA #\n",
    "\n",
    "import os\n",
    "import glob\n",
    "import sys\n",
    "import time\n",
    "\n",
    "directorio_archivos = 'C:\\\\Users\\\\Matias\\\\Downloads' # Aca la ruta absoluta\n",
    "\n",
    "patron_archivo = os.path.join(directorio_archivos, 'Vacios*.xls') #Aca va el tipo de archivo\n",
    "\n",
    "archivos = glob.glob(patron_archivo)\n",
    "\n",
    "archivo_excel_original = archivos[0]\n",
    "\n",
    "archivo_excel_destino = archivo_excel_original + \"x\"\n",
    "\n",
    "import subprocess\n",
    "\n",
    "# Comando para abrir el archivo de Excel original\n",
    "comando_abrir = 'start \"{}\"'.format(archivo_excel_original)\n",
    "\n",
    "# Ejecutar el comando para abrir el archivo de Excel original\n",
    "subprocess.run(comando_abrir, shell=True)\n",
    "\n",
    "# Esperar unos segundos para asegurarse de que Excel esté abierto y listo\n",
    "# Ajusta este tiempo según sea necesario\n",
    "time.sleep(2)\n",
    "\n",
    "# Comando de PowerShell para guardar el archivo de Excel como .xlsx\n",
    "comando_guardar = 'powershell -c \"$excel = New-Object -ComObject Excel.Application; $workbook = $excel.Workbooks.Open(\\'{}\\'); $workbook.SaveAs(\\'{}\\', 51); $excel.Quit()\"'.format(archivo_excel_original, archivo_excel_destino)\n",
    "\n",
    "# Ejecutar el comando para guardar el archivo de Excel como .xlsx\n",
    "subprocess.run(comando_guardar, shell=False)\n"
   ]
  }
 ],
 "metadata": {
  "kernelspec": {
   "display_name": "Python 3",
   "language": "python",
   "name": "python3"
  },
  "language_info": {
   "codemirror_mode": {
    "name": "ipython",
    "version": 3
   },
   "file_extension": ".py",
   "mimetype": "text/x-python",
   "name": "python",
   "nbconvert_exporter": "python",
   "pygments_lexer": "ipython3",
   "version": "3.11.1"
  },
  "orig_nbformat": 4
 },
 "nbformat": 4,
 "nbformat_minor": 2
}
