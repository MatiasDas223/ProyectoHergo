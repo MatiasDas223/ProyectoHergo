{
 "cells": [
  {
   "attachments": {},
   "cell_type": "markdown",
   "metadata": {},
   "source": [
    "Descargar e importar todas las librerias necesarias"
   ]
  },
  {
   "cell_type": "code",
   "execution_count": 43,
   "metadata": {},
   "outputs": [
    {
     "ename": "SyntaxError",
     "evalue": "invalid syntax (155986485.py, line 3)",
     "output_type": "error",
     "traceback": [
      "\u001b[1;36m  Cell \u001b[1;32mIn[43], line 3\u001b[1;36m\u001b[0m\n\u001b[1;33m    pip install openpyxl\u001b[0m\n\u001b[1;37m        ^\u001b[0m\n\u001b[1;31mSyntaxError\u001b[0m\u001b[1;31m:\u001b[0m invalid syntax\n"
     ]
    }
   ],
   "source": [
    "#pip install pandas\n",
    "#pip install schedule"
   ]
  },
  {
   "cell_type": "code",
   "execution_count": 45,
   "metadata": {},
   "outputs": [
    {
     "name": "stdout",
     "output_type": "stream",
     "text": [
      "Collecting openpyxlNote: you may need to restart the kernel to use updated packages.\n",
      "\n",
      "  Downloading openpyxl-3.1.2-py2.py3-none-any.whl (249 kB)\n",
      "     -------------------------------------- 250.0/250.0 kB 1.4 MB/s eta 0:00:00\n",
      "Collecting et-xmlfile\n",
      "  Downloading et_xmlfile-1.1.0-py3-none-any.whl (4.7 kB)\n",
      "Installing collected packages: et-xmlfile, openpyxl\n",
      "Successfully installed et-xmlfile-1.1.0 openpyxl-3.1.2\n"
     ]
    },
    {
     "name": "stderr",
     "output_type": "stream",
     "text": [
      "\n",
      "[notice] A new release of pip available: 22.3.1 -> 23.1.2\n",
      "[notice] To update, run: python.exe -m pip install --upgrade pip\n"
     ]
    }
   ],
   "source": [
    "pip install openpyxl\n"
   ]
  },
  {
   "cell_type": "code",
   "execution_count": 46,
   "metadata": {},
   "outputs": [],
   "source": [
    "import pandas as pd #'Pandas'\n",
    "import schedule #'Para automatizar procesos en funcion del dia'\n",
    "import time \n",
    "import glob #'Para buscar el ultimo archivo en una carpeta'\n",
    "import os\n",
    "import openpyxl"
   ]
  },
  {
   "attachments": {},
   "cell_type": "markdown",
   "metadata": {},
   "source": [
    "Definir el patron del archivo a cargar"
   ]
  },
  {
   "cell_type": "code",
   "execution_count": 31,
   "metadata": {},
   "outputs": [],
   "source": [
    "patron_archivo = 'Vacios*.xlsx'"
   ]
  },
  {
   "attachments": {},
   "cell_type": "markdown",
   "metadata": {},
   "source": [
    "Obtener la lista de archivos en una carpeta a traves de glob\n"
   ]
  },
  {
   "cell_type": "code",
   "execution_count": 50,
   "metadata": {},
   "outputs": [],
   "source": [
    "directorio_archivos = 'C:/Users/Matias/Desktop/Informes/REPORTE_VACIOS'\n",
    "\n",
    "patron_archivo = os.path.join(directorio_archivos, 'Vacios*.xlsx')\n",
    "\n",
    "archivos = glob.glob(patron_archivo)"
   ]
  },
  {
   "attachments": {},
   "cell_type": "markdown",
   "metadata": {},
   "source": [
    "Ordeanamos los archivos del mas reciente al mas viejo"
   ]
  },
  {
   "cell_type": "code",
   "execution_count": 51,
   "metadata": {},
   "outputs": [],
   "source": [
    "archivos_ordenados = sorted(archivos, key=lambda x: os.path.getmtime(x), reverse=True)"
   ]
  },
  {
   "cell_type": "code",
   "execution_count": 52,
   "metadata": {},
   "outputs": [
    {
     "name": "stdout",
     "output_type": "stream",
     "text": [
      "['C:/Users/Matias/Desktop/Informes/REPORTE_VACIOS\\\\Vacios16062023.xlsx', 'C:/Users/Matias/Desktop/Informes/REPORTE_VACIOS\\\\Vacios10062023.xlsx', 'C:/Users/Matias/Desktop/Informes/REPORTE_VACIOS\\\\Vacios11062023.xlsx', 'C:/Users/Matias/Desktop/Informes/REPORTE_VACIOS\\\\Vacios12062023.xlsx', 'C:/Users/Matias/Desktop/Informes/REPORTE_VACIOS\\\\Vacios13062023.xlsx', 'C:/Users/Matias/Desktop/Informes/REPORTE_VACIOS\\\\Vacios14062023.xlsx', 'C:/Users/Matias/Desktop/Informes/REPORTE_VACIOS\\\\Vacios15062023.xlsx']\n"
     ]
    }
   ],
   "source": [
    "print(archivos_ordenados)"
   ]
  },
  {
   "attachments": {},
   "cell_type": "markdown",
   "metadata": {},
   "source": [
    "Seleccionamos el archivo mas nuevo"
   ]
  },
  {
   "cell_type": "code",
   "execution_count": 56,
   "metadata": {},
   "outputs": [],
   "source": [
    "archivo_ventas = archivos_ordenados[0]\n",
    "columnas= ['Fecha', 'Precarga', 'Debe', 'Haber']\n",
    "df_ventas = pd.read_excel(archivo_ventas,  usecols = columnas)\n",
    "df_ventas['saldo'] = 0"
   ]
  },
  {
   "attachments": {},
   "cell_type": "markdown",
   "metadata": {},
   "source": [
    "Creo una columa con los saldos y luego voy a acumular el saldo de cada precarga"
   ]
  },
  {
   "cell_type": "code",
   "execution_count": 59,
   "metadata": {},
   "outputs": [
    {
     "name": "stdout",
     "output_type": "stream",
     "text": [
      "        Fecha  Precarga  Debe  Haber  saldo\n",
      "0  2023-06-15        12     0     15     15\n",
      "1  2023-06-15        12     0     12     12\n",
      "2  2023-06-15        12     1      0     -1\n",
      "3  2023-06-15        11     0     10     10\n",
      "4  2023-06-15        11     0     12     12\n",
      "5  2023-06-14        10     0      5      5\n",
      "6  2023-06-14        10     0      4      4\n",
      "7  2023-06-14         9     0      1      1\n",
      "8  2023-06-14         9     0      5      5\n",
      "9  2023-06-14         9     0      4      4\n",
      "10 2023-06-14         9     0      2      2\n",
      "11 2023-06-13         8     1      0     -1\n",
      "12 2023-06-13         8     1      0     -1\n",
      "13 2023-06-13         7     0      5      5\n",
      "14 2023-06-13         7     0      2      2\n",
      "15 2023-06-12         6     0      2      2\n",
      "16 2023-06-12         6     0      3      3\n",
      "17 2023-06-12         6     5      0     -5\n",
      "18 2023-06-12         6     0      5      5\n",
      "19 2023-06-12         5     2      0     -2\n",
      "20 2023-06-12         5     0      3      3\n",
      "21 2023-06-11         4     0      8      8\n",
      "22 2023-06-11         4     0      9      9\n",
      "23 2023-06-11         4     0      2      2\n",
      "24 2023-06-10         3     1      0     -1\n",
      "25 2023-06-10         3     5      0     -5\n",
      "26 2023-06-10         3     3      0     -3\n",
      "27 2023-06-10         3     0     10     10\n",
      "28 2023-06-10         3     0     12     12\n",
      "29 2023-06-09         2     0      8      8\n",
      "30 2023-06-09         2     0      3      3\n",
      "31 2023-06-09         2     2      0     -2\n",
      "32 2023-06-09         2     5      0     -5\n",
      "33 2023-06-09         2     0     30     30\n",
      "34 2023-06-08         1     0      3      3\n",
      "35 2023-06-08         1     0      5      5\n",
      "36 2023-06-08         1     0      8      8\n",
      "37 2023-06-08         0     0      5      5\n",
      "38 2023-06-08         0     0      2      2\n",
      "39 2023-06-08         0     0      1      1\n"
     ]
    }
   ],
   "source": [
    "df_ventas['Saldo'] = df_ventas['Haber'] - df_ventas['Debe']\n",
    "print(df_ventas)"
   ]
  },
  {
   "cell_type": "code",
   "execution_count": 75,
   "metadata": {},
   "outputs": [],
   "source": [
    "df_agrupado = df_ventas.groupby(['Fecha','Precarga'])['saldo'].sum().reset_index()\n",
    "df_agrupado = df_agrupado.sort_values('Fecha', ascending = False)\n",
    "df_agrupado['Fecha'] = pd.to_datetime(df_agrupado['Fecha']).dt.date"
   ]
  },
  {
   "cell_type": "code",
   "execution_count": 76,
   "metadata": {},
   "outputs": [
    {
     "name": "stdout",
     "output_type": "stream",
     "text": [
      "     Fecha  Precarga  saldo\n",
      "2023-06-15        11     22\n",
      "2023-06-15        12     26\n",
      "2023-06-14         9     12\n",
      "2023-06-14        10      9\n",
      "2023-06-13         7      7\n",
      "2023-06-13         8     -2\n",
      "2023-06-12         5      1\n",
      "2023-06-12         6      5\n",
      "2023-06-11         4     19\n",
      "2023-06-10         3     13\n",
      "2023-06-09         2     34\n",
      "2023-06-08         0      8\n",
      "2023-06-08         1     16\n"
     ]
    }
   ],
   "source": [
    "print(df_agrupado.to_string(index = False))\n"
   ]
  },
  {
   "attachments": {},
   "cell_type": "markdown",
   "metadata": {},
   "source": [
    "Filtrar para que solo traiga los ultimos 6 dias"
   ]
  },
  {
   "cell_type": "code",
   "execution_count": 82,
   "metadata": {},
   "outputs": [
    {
     "name": "stdout",
     "output_type": "stream",
     "text": [
      "     Fecha  Precarga  saldo\n",
      "2023-06-15        11     22\n",
      "2023-06-15        12     26\n",
      "2023-06-14         9     12\n",
      "2023-06-14        10      9\n",
      "2023-06-13         7      7\n",
      "2023-06-13         8     -2\n",
      "2023-06-12         5      1\n",
      "2023-06-12         6      5\n",
      "2023-06-11         4     19\n",
      "2023-06-10         3     13\n",
      "2023-06-09         2     34\n"
     ]
    }
   ],
   "source": [
    "from datetime import datetime, timedelta\n",
    "fecha_actual = datetime.now().date()\n",
    "fecha_limite = fecha_actual - timedelta(days=6)\n",
    "df_filtrado = df_agrupado[(df_agrupado['Fecha'] >= fecha_limite) & (df_agrupado['Fecha'] <= fecha_actual)]\n",
    "\n",
    "print(df_filtrado.to_string(index = False))\n",
    "\n"
   ]
  }
 ],
 "metadata": {
  "kernelspec": {
   "display_name": "Python 3",
   "language": "python",
   "name": "python3"
  },
  "language_info": {
   "codemirror_mode": {
    "name": "ipython",
    "version": 3
   },
   "file_extension": ".py",
   "mimetype": "text/x-python",
   "name": "python",
   "nbconvert_exporter": "python",
   "pygments_lexer": "ipython3",
   "version": "3.11.1"
  },
  "orig_nbformat": 4
 },
 "nbformat": 4,
 "nbformat_minor": 2
}
