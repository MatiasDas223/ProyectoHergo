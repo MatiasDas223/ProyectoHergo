{
 "cells": [
  {
   "attachments": {},
   "cell_type": "markdown",
   "metadata": {},
   "source": [
    "## Codigo para generar informe de roturas automaticamente"
   ]
  },
  {
   "attachments": {},
   "cell_type": "markdown",
   "metadata": {},
   "source": [
    "### Buscamos las carpetas de stock que contienen nuestros datos de interes"
   ]
  },
  {
   "cell_type": "code",
   "execution_count": 163,
   "metadata": {},
   "outputs": [
    {
     "name": "stdout",
     "output_type": "stream",
     "text": [
      "Último archivo modificado en Stock 2021/01 - ENERO2021: Informe 30-01-2021.xlsx\n",
      "Último archivo modificado en Stock 2021/02 - FEBRERO2021: Informe 27-02-2021.xlsx\n",
      "Último archivo modificado en Stock 2021/03 - MARZO 2021: Informe 31-03-2021.xlsx\n",
      "Último archivo modificado en Stock 2021/04 - ABRIL2021: Informe 30-04-2021.xlsx\n",
      "Último archivo modificado en Stock 2021/05 - MAYO2021: Informe 31-05-2021.xlsx\n",
      "Último archivo modificado en Stock 2021/06 - JUNIO2021: Informe 30-06-2021.xlsx\n",
      "Último archivo modificado en Stock 2021/07- JULIO 2021: Informe 31-07-2021.xlsx\n",
      "Último archivo modificado en Stock 2021/08- AGOSTO 2021: Informe 31-08-2021.xlsx\n",
      "Último archivo modificado en Stock 2021/09- SEPTIEMBRE 2021: Informe 01-10-2021.xlsx\n",
      "Último archivo modificado en Stock 2021/10- OCTUBRE 2021: Informe 30-10-2021.xlsx\n",
      "Último archivo modificado en Stock 2021/11 NOVIEMBRE: Informe 30-11-2021.xlsx\n",
      "Último archivo modificado en Stock 2021/12- DICIEMBRE 2021: Informe 31-12-2021.xlsx\n",
      "Último archivo modificado en Stock 2022/01- ENERO: Informe 31-01-2022.xlsx\n",
      "Último archivo modificado en Stock 2022/02- FEBRERO: Informe 26-02-2022.xlsx\n",
      "Último archivo modificado en Stock 2022/03- MARZO: Informe 31-03-2022.xlsx\n",
      "Último archivo modificado en Stock 2022/04- ABRIL: Informe 30-04-2022.xlsx\n",
      "Último archivo modificado en Stock 2022/05- MAYO: Informe 31-05-2022.xlsx\n",
      "Último archivo modificado en Stock 2022/06- JUNIO: Informe 30-06-2022.xlsx\n",
      "Último archivo modificado en Stock 2022/07- JULIO: Informe 30-07-2022.xlsx\n",
      "Último archivo modificado en Stock 2022/08- AGOSTO: Informe 31-08-2022.xlsx\n",
      "Último archivo modificado en Stock 2022/09- SEPTIEMBRE: Informe 30-09-2022.xlsx\n",
      "Último archivo modificado en Stock 2022/10-OCTUBRE: Informe 31-10-2022.xlsx\n",
      "Último archivo modificado en Stock 2022/11- NOVIEMBRE: Informe 30-11-2022.xlsx\n",
      "Último archivo modificado en Stock 2022/12-DICIEMBRE: Informe 31-12-2022.xlsx\n",
      "Último archivo modificado en Stock 2023/1-ENERO: Informe 31-01-2023.xlsx\n",
      "Último archivo modificado en Stock 2023/2-FEBRERO: Informe 28-02-2023.xlsx\n",
      "Último archivo modificado en Stock 2023/3-MARZO: Informe 31-03-2023.xlsx\n",
      "Último archivo modificado en Stock 2023/4-ABRIL: Informe 29-04-2023.xlsx\n",
      "Último archivo modificado en Stock 2023/5-MAYO: Informe 31-05-2023.xlsx\n",
      "Último archivo modificado en Stock 2023/6-JUNIO: informe 29-06-2023.xlsx\n",
      "Último archivo modificado en Stock 2023/7-JULIO: Informe 01-07-2023.xlsx\n"
     ]
    }
   ],
   "source": [
    "import os\n",
    "import pandas as pd\n",
    "from datetime import datetime\n",
    "from openpyxl import load_workbook\n",
    "\n",
    "ruta_principal = r\"H:\\\\STOCK\\\\\"\n",
    "\n",
    "# Obtener la lista de carpetas de año dentro de la carpeta principal\n",
    "carpetas_anio = [nombre for nombre in os.listdir(ruta_principal) if os.path.isdir(os.path.join(ruta_principal, nombre)) and nombre.startswith(\"Stock\")]\n",
    "\n",
    "carpetas_anio = carpetas_anio[(len(carpetas_anio)-4):(len(carpetas_anio)-1)]\n",
    "\n",
    "datos_archivos = []\n",
    "\n",
    "# Recorrer cada carpeta de año\n",
    "for carpeta_anio in carpetas_anio:\n",
    "    ruta_anio = os.path.join(ruta_principal, carpeta_anio)\n",
    "    ruta_anio = os.path.join(ruta_anio, '10- ROTURAS')\n",
    "    ruta_anio = os.path.join(ruta_anio, 'INFORME')\n",
    "\n",
    "    # Obtener la lista de carpetas de mes dentro de la carpeta de año\n",
    "    carpetas_mes = [nombre for nombre in os.listdir(ruta_anio) if os.path.isdir(os.path.join(ruta_anio, nombre))]\n",
    "\n",
    "    if os.path.exists(ruta_anio) and os.listdir(ruta_anio):\n",
    "\n",
    "        # Recorrer cada carpeta de mes\n",
    "        for carpeta_mes in carpetas_mes:\n",
    "            ruta_mes = os.path.join(ruta_anio, carpeta_mes)\n",
    "\n",
    "            # Obtener la lista de archivos dentro de la carpeta de mes\n",
    "            archivos = [nombre for nombre in os.listdir(ruta_mes) if os.path.isfile(os.path.join(ruta_mes, nombre))]\n",
    "\n",
    "            if len(archivos) > 0:\n",
    "\n",
    "                # Obtener el archivo más reciente por fecha de modificación\n",
    "                archivo_reciente = max(archivos, key=lambda archivo: os.path.getmtime(os.path.join(ruta_mes, archivo)))\n",
    "\n",
    "                ruta_archivo = os.path.join(ruta_mes, archivo_reciente)\n",
    "                \n",
    "                datos = pd.read_excel(ruta_archivo, sheet_name=\"Datos\")\n",
    "                datos_archivos.append(datos)\n",
    "\n",
    "                # Imprimir el resultado\n",
    "                print(f\"Último archivo modificado en {carpeta_anio}/{carpeta_mes}: {archivo_reciente}\")\n"
   ]
  },
  {
   "attachments": {},
   "cell_type": "markdown",
   "metadata": {},
   "source": [
    "### Sacamos el ultimo periodo"
   ]
  },
  {
   "cell_type": "code",
   "execution_count": 210,
   "metadata": {},
   "outputs": [],
   "source": [
    "datos_archivos = datos_archivos[:len(datos_archivos)-1]"
   ]
  },
  {
   "attachments": {},
   "cell_type": "markdown",
   "metadata": {},
   "source": [
    "### Unimos todos los archivos para formar la base de datos"
   ]
  },
  {
   "cell_type": "code",
   "execution_count": 211,
   "metadata": {},
   "outputs": [],
   "source": [
    "df_roturas = pd.concat(datos_archivos)"
   ]
  },
  {
   "attachments": {},
   "cell_type": "markdown",
   "metadata": {},
   "source": [
    "Nos quedamos con las columnas necesarias"
   ]
  },
  {
   "cell_type": "code",
   "execution_count": 212,
   "metadata": {},
   "outputs": [],
   "source": [
    "df_roturas = df_roturas[['FECHA', 'COSTO' ,'CÓDIGO', 'DESCRIPCIÓN', 'Cantidad [Uni]', 'TIPO']]"
   ]
  },
  {
   "attachments": {},
   "cell_type": "markdown",
   "metadata": {},
   "source": [
    "Arreglamos fecha"
   ]
  },
  {
   "cell_type": "code",
   "execution_count": 213,
   "metadata": {},
   "outputs": [],
   "source": [
    "# Cambiar tipo de dato de la columna 'FECHA' a datetime con formato \"%d/%m/%Y\"\n",
    "df_roturas['FECHA'] = pd.to_datetime(df_roturas['FECHA'], format=\"%d/%m/%Y\")\n",
    "\n",
    "# Cambiar tipo de dato de la columna 'DESCRIPCIÓN' a string\n",
    "df_roturas['DESCRIPCIÓN'] = df_roturas['DESCRIPCIÓN'].astype(str)"
   ]
  },
  {
   "attachments": {},
   "cell_type": "markdown",
   "metadata": {},
   "source": [
    "### Cargamos el maestro de articulos\n"
   ]
  },
  {
   "cell_type": "code",
   "execution_count": 214,
   "metadata": {},
   "outputs": [],
   "source": [
    "maestro = pd.read_excel(r'H:\\\\STOCK\\\\MAESTRO ARTICULOS\\\\Maestro UdxBultoprov2023.xlsm')"
   ]
  },
  {
   "cell_type": "code",
   "execution_count": 215,
   "metadata": {},
   "outputs": [],
   "source": [
    "df_roturas.rename(columns= {'CÓDIGO' : 'codart'}, inplace=True)"
   ]
  },
  {
   "cell_type": "code",
   "execution_count": 216,
   "metadata": {},
   "outputs": [],
   "source": [
    "columnas_deseadas = ['codart', 'unidxbult', 'codfamilia', 'descfamilia', 'proveedor']\n",
    "maestro = maestro.loc[:, columnas_deseadas]\n",
    "maestro.dropna(inplace= True)"
   ]
  },
  {
   "cell_type": "code",
   "execution_count": 217,
   "metadata": {},
   "outputs": [],
   "source": [
    "maestro['codart']=maestro['codart'].astype(object)"
   ]
  },
  {
   "cell_type": "code",
   "execution_count": 218,
   "metadata": {},
   "outputs": [],
   "source": [
    "df = df_roturas.merge(maestro, on= 'codart')"
   ]
  },
  {
   "cell_type": "code",
   "execution_count": 219,
   "metadata": {},
   "outputs": [],
   "source": [
    "df['bultos'] = df['Cantidad [Uni]']/df['unidxbult']"
   ]
  },
  {
   "cell_type": "code",
   "execution_count": 220,
   "metadata": {},
   "outputs": [
    {
     "data": {
      "text/plain": [
       "1"
      ]
     },
     "execution_count": 220,
     "metadata": {},
     "output_type": "execute_result"
    }
   ],
   "source": [
    "(df_roturas['codart'] == 25671).sum()"
   ]
  },
  {
   "attachments": {},
   "cell_type": "markdown",
   "metadata": {},
   "source": [
    "### Tabla pivote para variacion"
   ]
  },
  {
   "cell_type": "code",
   "execution_count": 221,
   "metadata": {},
   "outputs": [],
   "source": [
    "# Convertimos la columna 'FECHA' a formato de fecha\n",
    "df_pivot= df.copy() # Le asignamos el .copy para que las modificaciones a df_pivot no afecten a df, sino quedan vinculados\n",
    "df_pivot.dropna(inplace= True)\n",
    "df_pivot['FECHA'] = pd.to_datetime(df_pivot['FECHA'])\n",
    "\n",
    "# Creamos una nueva columna 'AÑO' extrayendo el año de la fecha\n",
    "df_pivot['AÑO'] = df_pivot['FECHA'].dt.year\n",
    "\n",
    "# Creamos una nueva columna 'MES' extrayendo el mes de la fecha\n",
    "df_pivot['MES'] = df_pivot['FECHA'].dt.month\n",
    "\n",
    "# Re-mapeamos los valores en la columna 'TIPO'\n",
    "mapeo_tipos = {\n",
    "    'ROTURA': 'ROTURA',\n",
    "    'ROTURA DEPOSITO': 'ROTURA',\n",
    "    'VENCIMIENTO': 'VENCIMIENTO',\n",
    "    'VENCIMIENTO DEPOSITO': 'VENCIMIENTO'\n",
    "}\n",
    "df_pivot['TIPO'] = df_pivot['TIPO'].replace(mapeo_tipos)\n",
    "\n",
    "#df para la pivot\n",
    "tipos = ['ROTURA', 'VENCIMIENTO']\n",
    "df_pivot = df_pivot[df_pivot['TIPO'].isin(tipos)]"
   ]
  },
  {
   "cell_type": "code",
   "execution_count": 222,
   "metadata": {},
   "outputs": [],
   "source": [
    "# Creamos la tabla pivote\n",
    "pivot = pd.pivot_table(df_pivot, values='bultos', index=['MES', 'TIPO'], columns='AÑO', aggfunc='sum').reset_index()"
   ]
  },
  {
   "cell_type": "code",
   "execution_count": 223,
   "metadata": {},
   "outputs": [],
   "source": [
    "mes = (datetime.now().month) # Que nos muestre solo a partir del mes actual\n",
    "pivot.fillna(0, inplace= True) # Los nulos los cambiamos por 0\n",
    "pivot = pivot[pivot['MES'] < mes] # que nos muestre solo a partir del mes actual\n",
    "columnas = pivot.columns #Conseguimos los nombres de las columnas\n",
    "pivot['RELACION %']=((pivot[columnas[len(columnas)-1]]-pivot[columnas[len(columnas)-2]])/pivot[columnas[len(columnas)-1]])*100"
   ]
  },
  {
   "cell_type": "code",
   "execution_count": 224,
   "metadata": {},
   "outputs": [
    {
     "data": {
      "text/plain": [
       "Index(['MES', 'TIPO', 2021, 2022, 2023], dtype='object', name='AÑO')"
      ]
     },
     "execution_count": 224,
     "metadata": {},
     "output_type": "execute_result"
    }
   ],
   "source": [
    "columnas"
   ]
  },
  {
   "cell_type": "code",
   "execution_count": 225,
   "metadata": {},
   "outputs": [
    {
     "data": {
      "text/html": [
       "<div>\n",
       "<style scoped>\n",
       "    .dataframe tbody tr th:only-of-type {\n",
       "        vertical-align: middle;\n",
       "    }\n",
       "\n",
       "    .dataframe tbody tr th {\n",
       "        vertical-align: top;\n",
       "    }\n",
       "\n",
       "    .dataframe thead th {\n",
       "        text-align: right;\n",
       "    }\n",
       "</style>\n",
       "<table border=\"1\" class=\"dataframe\">\n",
       "  <thead>\n",
       "    <tr style=\"text-align: right;\">\n",
       "      <th>AÑO</th>\n",
       "      <th>MES</th>\n",
       "      <th>TIPO</th>\n",
       "      <th>2021</th>\n",
       "      <th>2022</th>\n",
       "      <th>2023</th>\n",
       "      <th>RELACION %</th>\n",
       "    </tr>\n",
       "  </thead>\n",
       "  <tbody>\n",
       "    <tr>\n",
       "      <th>0</th>\n",
       "      <td>1</td>\n",
       "      <td>ROTURA</td>\n",
       "      <td>718.409522</td>\n",
       "      <td>1002.748569</td>\n",
       "      <td>1436.696112</td>\n",
       "      <td>30.204546</td>\n",
       "    </tr>\n",
       "    <tr>\n",
       "      <th>1</th>\n",
       "      <td>1</td>\n",
       "      <td>VENCIMIENTO</td>\n",
       "      <td>389.664516</td>\n",
       "      <td>390.091190</td>\n",
       "      <td>618.801242</td>\n",
       "      <td>36.960180</td>\n",
       "    </tr>\n",
       "    <tr>\n",
       "      <th>2</th>\n",
       "      <td>2</td>\n",
       "      <td>ROTURA</td>\n",
       "      <td>556.223097</td>\n",
       "      <td>820.729745</td>\n",
       "      <td>1080.193258</td>\n",
       "      <td>24.020101</td>\n",
       "    </tr>\n",
       "    <tr>\n",
       "      <th>3</th>\n",
       "      <td>2</td>\n",
       "      <td>VENCIMIENTO</td>\n",
       "      <td>225.828687</td>\n",
       "      <td>79.249444</td>\n",
       "      <td>623.086389</td>\n",
       "      <td>87.281147</td>\n",
       "    </tr>\n",
       "    <tr>\n",
       "      <th>4</th>\n",
       "      <td>3</td>\n",
       "      <td>ROTURA</td>\n",
       "      <td>780.694401</td>\n",
       "      <td>907.915823</td>\n",
       "      <td>1208.216359</td>\n",
       "      <td>24.854864</td>\n",
       "    </tr>\n",
       "    <tr>\n",
       "      <th>5</th>\n",
       "      <td>3</td>\n",
       "      <td>VENCIMIENTO</td>\n",
       "      <td>675.130358</td>\n",
       "      <td>106.764420</td>\n",
       "      <td>753.701190</td>\n",
       "      <td>85.834649</td>\n",
       "    </tr>\n",
       "    <tr>\n",
       "      <th>6</th>\n",
       "      <td>4</td>\n",
       "      <td>ROTURA</td>\n",
       "      <td>751.619082</td>\n",
       "      <td>847.301059</td>\n",
       "      <td>829.649805</td>\n",
       "      <td>-2.127555</td>\n",
       "    </tr>\n",
       "    <tr>\n",
       "      <th>7</th>\n",
       "      <td>4</td>\n",
       "      <td>VENCIMIENTO</td>\n",
       "      <td>314.609650</td>\n",
       "      <td>329.406222</td>\n",
       "      <td>1120.610214</td>\n",
       "      <td>70.604746</td>\n",
       "    </tr>\n",
       "    <tr>\n",
       "      <th>8</th>\n",
       "      <td>5</td>\n",
       "      <td>ROTURA</td>\n",
       "      <td>666.379104</td>\n",
       "      <td>832.027223</td>\n",
       "      <td>1160.960588</td>\n",
       "      <td>28.332862</td>\n",
       "    </tr>\n",
       "    <tr>\n",
       "      <th>9</th>\n",
       "      <td>5</td>\n",
       "      <td>VENCIMIENTO</td>\n",
       "      <td>526.886553</td>\n",
       "      <td>173.977636</td>\n",
       "      <td>762.735874</td>\n",
       "      <td>77.190317</td>\n",
       "    </tr>\n",
       "  </tbody>\n",
       "</table>\n",
       "</div>"
      ],
      "text/plain": [
       "AÑO  MES         TIPO        2021         2022         2023  RELACION %\n",
       "0      1       ROTURA  718.409522  1002.748569  1436.696112   30.204546\n",
       "1      1  VENCIMIENTO  389.664516   390.091190   618.801242   36.960180\n",
       "2      2       ROTURA  556.223097   820.729745  1080.193258   24.020101\n",
       "3      2  VENCIMIENTO  225.828687    79.249444   623.086389   87.281147\n",
       "4      3       ROTURA  780.694401   907.915823  1208.216359   24.854864\n",
       "5      3  VENCIMIENTO  675.130358   106.764420   753.701190   85.834649\n",
       "6      4       ROTURA  751.619082   847.301059   829.649805   -2.127555\n",
       "7      4  VENCIMIENTO  314.609650   329.406222  1120.610214   70.604746\n",
       "8      5       ROTURA  666.379104   832.027223  1160.960588   28.332862\n",
       "9      5  VENCIMIENTO  526.886553   173.977636   762.735874   77.190317"
      ]
     },
     "execution_count": 225,
     "metadata": {},
     "output_type": "execute_result"
    }
   ],
   "source": [
    "pivot"
   ]
  },
  {
   "cell_type": "code",
   "execution_count": 226,
   "metadata": {},
   "outputs": [
    {
     "data": {
      "text/plain": [
       "5"
      ]
     },
     "execution_count": 226,
     "metadata": {},
     "output_type": "execute_result"
    }
   ],
   "source": [
    "len(columnas)"
   ]
  },
  {
   "attachments": {},
   "cell_type": "markdown",
   "metadata": {},
   "source": [
    "Formateamos la tabla pivot"
   ]
  },
  {
   "cell_type": "code",
   "execution_count": 227,
   "metadata": {},
   "outputs": [],
   "source": [
    "pivot.iloc[:, -1] = pivot.iloc[:, -1].apply(lambda x: \"{:,.2f}%\".format(x))\n",
    "pivot[columnas[len(columnas)-1]] = pivot[columnas[len(columnas)-1]].apply(lambda x: \"{:,.2f} Bul.\".format(x))\n",
    "pivot[columnas[len(columnas)-2]] = pivot[columnas[len(columnas)-2]].apply(lambda x: \"{:,.2f} Bul.\".format(x))\n",
    "pivot[columnas[len(columnas)-3]] = pivot[columnas[len(columnas)-3]].apply(lambda x: \"{:,.2f} Bul.\".format(x))"
   ]
  },
  {
   "attachments": {},
   "cell_type": "markdown",
   "metadata": {},
   "source": [
    "### Tabla de motivos con sus costos y proporcion\n"
   ]
  },
  {
   "attachments": {},
   "cell_type": "markdown",
   "metadata": {},
   "source": [
    "Nos vamos a quedar con solo el mes que vamos a analizar, que es el mes anterior al actual"
   ]
  },
  {
   "cell_type": "code",
   "execution_count": 228,
   "metadata": {},
   "outputs": [],
   "source": [
    "# obteniendo el año y mes actual\n",
    "current_year = datetime.now().year\n",
    "current_month = datetime.now().month\n",
    "\n",
    "# obteniendo el mes y año anterior\n",
    "if current_month == 1:\n",
    "    last_month = 12\n",
    "    last_year = current_year - 1\n",
    "else:\n",
    "    last_month = current_month - 1\n",
    "    last_year = current_year"
   ]
  },
  {
   "cell_type": "code",
   "execution_count": 229,
   "metadata": {},
   "outputs": [
    {
     "name": "stderr",
     "output_type": "stream",
     "text": [
      "C:\\Users\\mdasilva\\AppData\\Local\\Temp\\ipykernel_2532\\2522195786.py:3: SettingWithCopyWarning: \n",
      "A value is trying to be set on a copy of a slice from a DataFrame\n",
      "\n",
      "See the caveats in the documentation: https://pandas.pydata.org/pandas-docs/stable/user_guide/indexing.html#returning-a-view-versus-a-copy\n",
      "  df_last_month.dropna(inplace= True)\n"
     ]
    }
   ],
   "source": [
    "# Filtrando el dataframe para incluir solo las filas del mes anterior\n",
    "df_last_month = df[(df['FECHA'].dt.year == last_year) & (df['FECHA'].dt.month == last_month)]\n",
    "df_last_month.dropna(inplace= True)"
   ]
  },
  {
   "cell_type": "code",
   "execution_count": 230,
   "metadata": {},
   "outputs": [],
   "source": [
    "# Convertir los valores en la columna 'COSTO' a números\n",
    "#df['COSTO'] = pd.to_numeric(df['COSTO'], errors='coerce')\n",
    "\n",
    "agregacion = df_last_month.groupby('TIPO')['COSTO'].sum().astype(int).reset_index().sort_values(by= 'COSTO', ascending= False) # Agrupamos por tipo sumando el costo\n",
    "\n",
    "total_costo = agregacion['COSTO'].sum() # Creamos la variable total que es la suma de todos los costos\n",
    "\n",
    "total_row = pd.DataFrame({'TIPO': ['TOTAL'], 'COSTO': [total_costo]})# Creamos la fila total\n",
    "\n",
    "agregacion = pd.concat([agregacion, total_row], ignore_index=True)# Concatenamos la fila TOTAL\n",
    "\n",
    "agregacion['Proporcion'] = (agregacion['COSTO']/total_costo)*100\n",
    "\n",
    "agregacion['COSTO'] = agregacion['COSTO'].apply(lambda x: \"${:,.0f}\".format(x)) # Agregamos formato de pesos\n",
    "\n",
    "agregacion['Proporcion'] = agregacion['Proporcion'].apply(lambda x: \"{:,.2f}%\".format(x)) # Agregamos formato de porcentaje"
   ]
  },
  {
   "attachments": {},
   "cell_type": "markdown",
   "metadata": {},
   "source": [
    "### Tabla de familias y sus costos, separadas por tipo"
   ]
  },
  {
   "cell_type": "code",
   "execution_count": 234,
   "metadata": {},
   "outputs": [],
   "source": [
    "agregacion_2 = df_last_month.groupby(['descfamilia', 'TIPO'])['COSTO'].sum().astype(int).reset_index() # Agrupamos por tipo sumando el costo\n",
    "\n",
    "agregacion_2.sort_values(by= 'COSTO', ascending= False, inplace= True) #Ordenamos por costo\n",
    "\n",
    "agregacion_2.reset_index(drop= True,inplace= True) #Reiniciamos los indices\n",
    "\n",
    "agregacion_2 = agregacion_2.loc[agregacion_2['COSTO'] != 0]\n",
    "\n",
    "#agregacion_2['COSTO'] = agregacion_2['COSTO'].apply(lambda x: \"${:,.2f}\".format(x)) # Agregamos formato de pesos"
   ]
  },
  {
   "cell_type": "code",
   "execution_count": 235,
   "metadata": {},
   "outputs": [],
   "source": [
    "tablas = agregacion_2['TIPO'].unique()"
   ]
  },
  {
   "cell_type": "code",
   "execution_count": 236,
   "metadata": {},
   "outputs": [],
   "source": [
    "agregacion_2.rename(columns= {'descfamilia' : 'FAMILIA'}, inplace= True)"
   ]
  },
  {
   "cell_type": "code",
   "execution_count": 237,
   "metadata": {},
   "outputs": [],
   "source": [
    "lista_tablas = []\n",
    "\n",
    "for x in tablas:\n",
    "    lista = agregacion_2[agregacion_2['TIPO']== x].loc[:, ('FAMILIA', 'COSTO')]\n",
    "    lista['Proporcion del Area'] = (100*(lista['COSTO']/lista['COSTO'].sum())).apply(lambda x: \"{:,.2f}%\".format(x))\n",
    "    lista['Proporcion del Total'] = (100*(lista['COSTO']/total_costo)).apply(lambda x: \"{:,.2f}%\".format(x))\n",
    "    lista['COSTO'] = lista['COSTO'].apply(lambda x: \"${:,.2f}\".format(x)) # Agregamos formato de pesos\n",
    "    lista_tablas.append(lista)"
   ]
  },
  {
   "attachments": {},
   "cell_type": "markdown",
   "metadata": {},
   "source": [
    "### Tabla por proveedores"
   ]
  },
  {
   "cell_type": "code",
   "execution_count": 238,
   "metadata": {},
   "outputs": [],
   "source": [
    "# Definir los tipos de roturas y vencimientos\n",
    "roturas_tipo = ('ROTURA', 'ROTURA DEPOSITO')\n",
    "vencimientos_tipo = ('VENCIMIENTO', 'VENCIMIENTO SALON')\n",
    "\n",
    "# Filtrar y realizar la agregación por roturas\n",
    "agregacion_roturas = df_last_month[df_last_month['TIPO'].isin(roturas_tipo)]\n",
    "agregacion_roturas = agregacion_roturas.groupby('proveedor')['COSTO'].sum().reset_index()\n",
    "\n",
    "# Filtrar y realizar la agregación por vencimientos\n",
    "agregacion_vencimientos = df_last_month[df_last_month['TIPO'].isin(vencimientos_tipo)]\n",
    "agregacion_vencimientos = agregacion_vencimientos.groupby('proveedor')['COSTO'].sum().reset_index()\n",
    "\n",
    "# Combinar los resultados de roturas y vencimientos\n",
    "resultado_final = pd.merge(agregacion_roturas, agregacion_vencimientos, on='proveedor', how='outer')\n",
    "resultado_final.columns = ['Proveedor', 'Rotura', 'Vencimiento']\n",
    "resultado_final.fillna(0,inplace= True)\n",
    "resultado_final['Total'] = resultado_final['Rotura']+resultado_final['Vencimiento']\n",
    "resultado_final.sort_values(by = 'Total', inplace=True, ascending= False)\n",
    "resultado_final['Proporcion_Total'] = (resultado_final['Total'] / total_costo)*100\n",
    "\n",
    "#Formateamos los valores\n",
    "\n",
    "resultado_final['Rotura'] = resultado_final['Rotura'].apply(lambda x: \"${:,.2f}\".format(x))\n",
    "resultado_final['Vencimiento'] = resultado_final['Vencimiento'].apply(lambda x: \"${:,.2f}\".format(x))\n",
    "resultado_final['Total'] = resultado_final['Total'].apply(lambda x: \"${:,.2f}\".format(x))\n",
    "resultado_final['Proporcion_Total'] = resultado_final['Proporcion_Total'].apply(lambda x: \"{:,.2f}%\".format(x))\n"
   ]
  },
  {
   "attachments": {},
   "cell_type": "markdown",
   "metadata": {},
   "source": [
    "## Armar un pdf con todas las tablas generadas"
   ]
  },
  {
   "cell_type": "code",
   "execution_count": 239,
   "metadata": {},
   "outputs": [],
   "source": [
    "from reportlab.lib.styles import getSampleStyleSheet\n",
    "\n",
    "from reportlab.lib.styles import ParagraphStyle\n",
    "\n",
    "# Crear un nuevo estilo para el subtítulo a partir del estilo 'Title'\n",
    "estilos = getSampleStyleSheet()\n",
    "estilo_subtitulo = estilos['Title'].clone('subtitulo')  # Crea una copia del estilo 'Title'\n",
    "estilo_subtitulo.fontSize = 14  # Cambiar el tamaño de la fuente\n",
    "estilo_subtitulo.leading = 16   # Cambiar el espaciado entre líneas\n",
    "\n",
    "# Definir un nuevo estilo para los títulos de las tablas\n",
    "estilo_titulo_tabla = ParagraphStyle(\n",
    "    'TituloTabla',  # Nombre del estilo\n",
    "    parent=estilos['BodyText'],  # Estilo base\n",
    "    alignment=1,  # 1 = centrado, 0 = izquierda, 2 = derecha\n",
    "    fontSize=14,  # Tamaño de la fuente\n",
    "    spaceAfter=12,  # Espacio después del título\n",
    ")"
   ]
  },
  {
   "cell_type": "code",
   "execution_count": 240,
   "metadata": {},
   "outputs": [],
   "source": [
    "# Diccionario para traducir los nombres de los meses al español\n",
    "meses_en_espanol = [\n",
    "    'Enero',\n",
    "    'Febrero',\n",
    "    'Marzo',\n",
    "    'Abril',\n",
    "    'Mayo',\n",
    "    'Junio',\n",
    "    'Julio',\n",
    "    'Agosto',\n",
    "    'Septiembre',\n",
    "    'Octubre',\n",
    "    'Noviembre',\n",
    "    'Diciembre',\n",
    "]"
   ]
  },
  {
   "attachments": {},
   "cell_type": "markdown",
   "metadata": {},
   "source": [
    "### Diseño completo del PDF"
   ]
  },
  {
   "attachments": {},
   "cell_type": "markdown",
   "metadata": {},
   "source": [
    "Ruta para guardas los archivos generados"
   ]
  },
  {
   "cell_type": "code",
   "execution_count": 262,
   "metadata": {},
   "outputs": [],
   "source": [
    "from dateutil.relativedelta import relativedelta\n",
    "\n",
    "# Obtener la fecha actual y restarle un mes\n",
    "fecha_anterior = datetime.now() - relativedelta(months=1)\n",
    "\n",
    "# Obtener el índice del mes anterior (donde enero es 0)\n",
    "indice_mes_anterior = fecha_anterior.month - 1\n",
    "\n",
    "# Obtener el año del mes anterior\n",
    "ano_anterior = fecha_anterior.year\n",
    "\n",
    "# Traducir el mes al español\n",
    "mes_anterior = meses_en_espanol[indice_mes_anterior]\n",
    "\n",
    "# Ruta de la carpeta que deseas crear\n",
    "ruta_carpeta = r\"H:\\\\STOCK\\\\\"\n",
    "\n",
    "ruta_carpeta = os.path.join(ruta_carpeta, carpeta_anio)\n",
    "\n",
    "ruta_carpeta = os.path.join(ruta_carpeta, f'10- ROTURAS\\\\INFORME MENSUAL\\\\{mes_anterior}')\n"
   ]
  },
  {
   "attachments": {},
   "cell_type": "markdown",
   "metadata": {},
   "source": [
    "Creamos el pdf"
   ]
  },
  {
   "cell_type": "code",
   "execution_count": 263,
   "metadata": {},
   "outputs": [],
   "source": [
    "# Verificar si la carpeta no existe y crearla si es necesario\n",
    "if not os.path.exists(ruta_carpeta):\n",
    "    os.makedirs(ruta_carpeta)"
   ]
  },
  {
   "attachments": {},
   "cell_type": "markdown",
   "metadata": {},
   "source": [
    "Formato del pdf"
   ]
  },
  {
   "cell_type": "code",
   "execution_count": 255,
   "metadata": {},
   "outputs": [],
   "source": [
    "from reportlab.lib.pagesizes import letter\n",
    "from reportlab.platypus import SimpleDocTemplate, Table, TableStyle, Paragraph, Spacer, Frame\n",
    "from reportlab.lib import colors\n",
    "from datetime import date\n",
    "from reportlab.platypus import PageBreak\n",
    "from reportlab.lib.units import inch, mm\n",
    "from reportlab.platypus import Image\n",
    "from reportlab.pdfgen import canvas\n",
    "\n",
    "# Obtener la fecha actual\n",
    "fecha_elaboracion = date.today().strftime(\"%d/%m/%Y\")\n",
    "\n",
    "# Usar el mes anterior en el subtítulo\n",
    "subtitulo = f\"Análisis del mes de {mes_anterior} del {ano_anterior}\"\n",
    "\n",
    "# Convertir el DataFrame en una lista de listas\n",
    "data_tabla1 = [agregacion.columns.tolist()] + agregacion.values.tolist()\n",
    "\n",
    "# Crear el archivo PDF dentro de la carpeta\n",
    "nombre_archivo = f\"Reporte Mensual Roturas {mes_anterior} del {ano_anterior}.pdf\"\n",
    "ruta_archivo = os.path.join(ruta_carpeta, nombre_archivo)\n",
    "doc = SimpleDocTemplate(ruta_archivo, pagesize=letter)\n",
    "elementos = []\n",
    "\n",
    "# Título y espaciado\n",
    "titulo = \"Reporte de bajas por rotura mensual\"\n",
    "estilos = getSampleStyleSheet()\n",
    "elementos.append(Paragraph(titulo, estilos['Title']))\n",
    "\n",
    "#### TABLA COMPARATIVA ENTRE MESES DE LAS BAJAS\n",
    "\n",
    "# Agregar el subtítulo a los elementos\n",
    "elementos.append(Paragraph(subtitulo, estilo_subtitulo))\n",
    "elementos.append(Spacer(1, 12))  # Espacio entre el subtítulo y el texto adicional\n",
    "\n",
    "# Espaciado después del título\n",
    "elementos.append(Spacer(1, 12))\n",
    "\n",
    "# Texto adicional\n",
    "texto_adicional = \"En la siguiente tabla se presenta una comparacion en bultos de la cantiad de bajas vs el mismo mes del año anterior.\"\n",
    "elementos.append(Paragraph(texto_adicional, estilo_titulo_tabla))  # Agregando el texto adicional\n",
    "\n",
    "# Espaciado después del texto adicional\n",
    "elementos.append(Spacer(1, 24))\n",
    "\n",
    "# Crear la Tabla 1 y agregar a los elementos\n",
    "tabla1 = Table([pivot.columns.tolist()] + pivot.values.tolist())\n",
    "tabla1.setStyle(TableStyle([\n",
    "    ('BACKGROUND', (0, 0), (-1, 0), colors.grey),\n",
    "    ('TEXTCOLOR', (0, 0), (-1, 0), colors.whitesmoke),\n",
    "    ('ALIGN', (0, 0), (-1, -1), 'CENTER'),\n",
    "    ('FONTNAME', (0, 0), (-1, 0), 'Helvetica-Bold'),\n",
    "    ('FONTSIZE', (0, 0), (-1, 0), 12),\n",
    "    ('BOTTOMPADDING', (0, 0), (-1, 0), 12),\n",
    "    ('BACKGROUND', (0, 1), (-1, -1), colors.beige),\n",
    "    ('GRID', (0, 0), (-1, -1), 1, colors.black)\n",
    "]))\n",
    "elementos.append(tabla1)  # Agregar la tabla a los elementos\n",
    "\n",
    "elementos.append(Spacer(1, 24))\n",
    "elementos.append(PageBreak())\n",
    "\n",
    "##### TABLA RESUMEN\n",
    "\n",
    "# Texto adicional\n",
    "texto_adicional = \"En la siguiente tabla se presenta las distintas causas de las bajas con su monto relacionado.\"\n",
    "elementos.append(Paragraph(texto_adicional, estilo_titulo_tabla))  # Agregando el texto adicional\n",
    "\n",
    "# Espaciado después del texto adicional\n",
    "elementos.append(Spacer(1, 24))\n",
    "\n",
    "# Crear la Tabla 1 y agregar a los elementos\n",
    "tabla2 = Table(data_tabla1)\n",
    "tabla2.setStyle(TableStyle([\n",
    "    ('BACKGROUND', (0, 0), (-1, 0), colors.grey),\n",
    "    ('TEXTCOLOR', (0, 0), (-1, 0), colors.whitesmoke),\n",
    "    ('ALIGN', (0, 0), (-1, -1), 'CENTER'),\n",
    "    ('FONTNAME', (0, 0), (-1, 0), 'Helvetica-Bold'),\n",
    "    ('FONTSIZE', (0, 0), (-1, 0), 12),\n",
    "    ('BOTTOMPADDING', (0, 0), (-1, 0), 12),\n",
    "    ('BACKGROUND', (0, 1), (-1, -1), colors.beige),\n",
    "    ('GRID', (0, 0), (-1, -1), 1, colors.black)\n",
    "]))\n",
    "elementos.append(tabla2)  # Agregar la tabla a los elementos\n",
    "\n",
    "elementos.append(Spacer(1, 24))\n",
    "elementos.append(PageBreak())\n",
    "\n",
    "\n",
    "#### TABLAS POR FAMILIA Y COSTO DE LAS BAJAS\n",
    "\n",
    "\n",
    "# Generar las tablas y agregarlas al PDF\n",
    "for i, tabla in enumerate(lista_tablas):\n",
    "    # Crear el título de la tabla\n",
    "    titulo_tabla = f\"Tabla de costos de bajas por {tablas[i]} desagregado por familia de productos\"\n",
    "    elementos.append(Paragraph(titulo_tabla, estilo_titulo_tabla))\n",
    "\n",
    "    # Obtener los encabezados y los datos de la tabla\n",
    "    encabezados = tabla.columns.tolist()\n",
    "    datos = tabla.values.tolist()\n",
    "\n",
    "    # Crear la tabla\n",
    "    tabla_pdf = Table([encabezados] + datos)\n",
    "    tabla_pdf.setStyle(TableStyle([\n",
    "        ('BACKGROUND', (0, 0), (-1, 0), colors.grey),\n",
    "        ('TEXTCOLOR', (0, 0), (-1, 0), colors.whitesmoke),\n",
    "        ('ALIGN', (0, 0), (-1, -1), 'CENTER'),\n",
    "        ('FONTNAME', (0, 0), (-1, 0), 'Helvetica-Bold'),\n",
    "        ('FONTSIZE', (0, 0), (-1, 0), 12),\n",
    "        ('BOTTOMPADDING', (0, 0), (-1, 0), 12),\n",
    "        ('BACKGROUND', (0, 1), (-1, -1), colors.beige),\n",
    "        ('GRID', (0, 0), (-1, -1), 1, colors.black)\n",
    "    ]))\n",
    "    \n",
    "    # Agregar la tabla al PDF\n",
    "    elementos.append(tabla_pdf)\n",
    "    elementos.append(PageBreak())  # Agregar un salto de página después de cada tabla\n",
    "\n",
    "\n",
    "#### TABLA DE PROVEEDORES\n",
    "\n",
    "texto_adicional = \"En la siguiente tabla los costos asociados a las bajas por proveedor.\"\n",
    "elementos.append(Paragraph(texto_adicional, estilo_titulo_tabla))  # Agregando el texto adicional\n",
    "\n",
    "\n",
    "# Espaciado después del texto adicional\n",
    "elementos.append(Spacer(1, 24))\n",
    "\n",
    "# Crear la Tabla 1 y agregar a los elementos\n",
    "tabla2 = Table([resultado_final.columns.tolist()] + resultado_final.values.tolist())\n",
    "tabla2.setStyle(TableStyle([\n",
    "    ('BACKGROUND', (0, 0), (-1, 0), colors.grey),\n",
    "    ('TEXTCOLOR', (0, 0), (-1, 0), colors.whitesmoke),\n",
    "    ('ALIGN', (0, 0), (-1, -1), 'CENTER'),\n",
    "    ('FONTNAME', (0, 0), (-1, 0), 'Helvetica-Bold'),\n",
    "    ('FONTSIZE', (0, 0), (-1, 0), 12),\n",
    "    ('BOTTOMPADDING', (0, 0), (-1, 0), 12),\n",
    "    ('BACKGROUND', (0, 1), (-1, -1), colors.beige),\n",
    "    ('GRID', (0, 0), (-1, -1), 1, colors.black)\n",
    "]))\n",
    "elementos.append(tabla2)  # Agregar la tabla a los elementos\n",
    "\n",
    "elementos.append(Spacer(1, 24))\n",
    "elementos.append(PageBreak())\n",
    "\n",
    "\n",
    "#### DARLE FORMATO AL PDF\n",
    "\n",
    "class NumberedCanvas(canvas.Canvas):\n",
    "    def __init__(self, *args, **kwargs):\n",
    "        canvas.Canvas.__init__(self, *args, **kwargs)\n",
    "        self._saved_page_states = []\n",
    "\n",
    "    def showPage(self):\n",
    "        self._saved_page_states.append(dict(self.__dict__))\n",
    "        self._startPage()\n",
    "\n",
    "    def save(self):\n",
    "        \"\"\"add page info to each page (page x of y)\"\"\"\n",
    "        num_pages = len(self._saved_page_states)\n",
    "        for state in self._saved_page_states:\n",
    "            self.__dict__.update(state)\n",
    "            self.setFont(\"Helvetica\", 10)\n",
    "            self.drawRightString(600, 30, f\"Página {self._pageNumber} of {num_pages}\")\n",
    "            canvas.Canvas.showPage(self)\n",
    "        canvas.Canvas.save(self)\n",
    "    \n",
    "def agregar_encabezado(canvas, doc):\n",
    "    \"\"\"\n",
    "    Agrega la fecha de elaboración y la leyenda en la parte superior de cada página,\n",
    "    y una imagen en la primera página.\n",
    "    \"\"\"\n",
    "    canvas.saveState()\n",
    "    canvas.setFont(\"Helvetica\", 10)\n",
    "    canvas.drawString(450, doc.height + doc.topMargin +10 , f\"Fecha de Elaboración: {fecha_elaboracion}\")\n",
    "    canvas.drawString(450, doc.height + doc.topMargin +20, \"Elaborado por Matias da Silva\")  # Agregar la leyenda\n",
    "\n",
    "    if doc.page == 1:\n",
    "        img_path = '../Roturas/logo-17.png'  # Cambia esto a la ruta de tu imagen\n",
    "        img = Image(img_path, width=2*inch, height=1*inch)  # Cambia el tamaño según lo que necesites\n",
    "        img.drawOn(canvas, 30, doc.height + doc.topMargin - 10)\n",
    "\n",
    "    canvas.restoreState()\n",
    "\n",
    "\n",
    "# Asociar las funciones al documento\n",
    "doc.build(elementos, \n",
    "          onFirstPage=agregar_encabezado, \n",
    "          onLaterPages=agregar_encabezado,\n",
    "          canvasmaker=NumberedCanvas)\n"
   ]
  },
  {
   "attachments": {},
   "cell_type": "markdown",
   "metadata": {},
   "source": [
    "### Guardamos las tablas con la informacion utilizada"
   ]
  },
  {
   "cell_type": "code",
   "execution_count": 264,
   "metadata": {},
   "outputs": [],
   "source": [
    "# Guardar las tablas en formato Excel\n",
    "ruta_pivot = os.path.join(ruta_carpeta, \"Comparacion Anual.xlsx\")\n",
    "pivot.to_excel(ruta_pivot, index=False)\n",
    "\n",
    "ruta_agregacion_2 = os.path.join(ruta_carpeta, \"Agregacion por familias.xlsx\")\n",
    "agregacion_2.to_excel(ruta_agregacion_2, index=False)\n",
    "\n",
    "ruta_resultado_final = os.path.join(ruta_carpeta, \"Agregacion por proveedores.xlsx\")\n",
    "resultado_final.to_excel(ruta_resultado_final, index=False)"
   ]
  }
 ],
 "metadata": {
  "kernelspec": {
   "display_name": "Python 3",
   "language": "python",
   "name": "python3"
  },
  "language_info": {
   "codemirror_mode": {
    "name": "ipython",
    "version": 3
   },
   "file_extension": ".py",
   "mimetype": "text/x-python",
   "name": "python",
   "nbconvert_exporter": "python",
   "pygments_lexer": "ipython3",
   "version": "3.11.4"
  },
  "orig_nbformat": 4
 },
 "nbformat": 4,
 "nbformat_minor": 2
}
