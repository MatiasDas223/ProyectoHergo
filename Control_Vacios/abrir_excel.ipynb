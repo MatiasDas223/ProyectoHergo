{
 "cells": [
  {
   "cell_type": "code",
   "execution_count": 4,
   "metadata": {},
   "outputs": [
    {
     "data": {
      "text/plain": [
       "CompletedProcess(args='powershell -c \"$excel = New-Object -ComObject Excel.Application; $workbook = $excel.Workbooks.Open(\\'\\\\\\\\layla\\\\Documentos\\\\STOCK\\\\ReporteVacios\\\\VentasDesde1962023.xls\\'); $workbook.SaveAs(\\'\\\\\\\\layla\\\\Documentos\\\\STOCK\\\\ReporteVacios\\\\VentasDesde1962023.xlsx\\', 51); $excel.Quit()\"', returncode=0)"
      ]
     },
     "execution_count": 4,
     "metadata": {},
     "output_type": "execute_result"
    }
   ],
   "source": [
    "import os\n",
    "import glob\n",
    "import sys\n",
    "import time\n",
    "\n",
    "directorio_archivos = r\"\\\\layla\\Documentos\\STOCK\\ReporteVacios\" # Aca la ruta absoluta\n",
    "\n",
    "patron_archivo = os.path.join(directorio_archivos, 'Ventas*.xls') #Aca va el tipo de archivo\n",
    "\n",
    "archivos = glob.glob(patron_archivo)\n",
    "\n",
    "archivos = sorted(archivos, key=lambda x: os.path.getmtime(x), reverse=True) #Ordenar archivos por el ultimo modificado\n",
    "\n",
    "archivo_excel_original = archivos[0]\n",
    "\n",
    "archivo_excel_destino = archivo_excel_original + \"x\"\n",
    "\n",
    "import subprocess\n",
    "\n",
    "# Comando para abrir el archivo de Excel original\n",
    "comando_abrir = 'start \"{}\"'.format(archivo_excel_original)\n",
    "\n",
    "# Ejecutar el comando para abrir el archivo de Excel original\n",
    "subprocess.run(comando_abrir, shell=True)\n",
    "\n",
    "# Esperar unos segundos para asegurarse de que Excel esté abierto y listo\n",
    "# Ajusta este tiempo según sea necesario\n",
    "time.sleep(2)\n",
    "\n",
    "# Comando de PowerShell para guardar el archivo de Excel como .xlsx\n",
    "comando_guardar = 'powershell -c \"$excel = New-Object -ComObject Excel.Application; $workbook = $excel.Workbooks.Open(\\'{}\\'); $workbook.SaveAs(\\'{}\\', 51); $excel.Quit()\"'.format(archivo_excel_original, archivo_excel_destino)\n",
    "\n",
    "# Ejecutar el comando para guardar el archivo de Excel como .xlsx\n",
    "subprocess.run(comando_guardar, shell=False)"
   ]
  },
  {
   "cell_type": "code",
   "execution_count": 3,
   "metadata": {},
   "outputs": [
    {
     "name": "stdout",
     "output_type": "stream",
     "text": [
      "['\\\\\\\\layla\\\\Documentos\\\\STOCK\\\\ReporteVacios\\\\VentasDesde1022023.xls', '\\\\\\\\layla\\\\Documentos\\\\STOCK\\\\ReporteVacios\\\\VentasDesde1032023.xls', '\\\\\\\\layla\\\\Documentos\\\\STOCK\\\\ReporteVacios\\\\VentasDesde1042023.xls', '\\\\\\\\layla\\\\Documentos\\\\STOCK\\\\ReporteVacios\\\\VentasDesde1052023.xls', '\\\\\\\\layla\\\\Documentos\\\\STOCK\\\\ReporteVacios\\\\VentasDesde1062023.xls', '\\\\\\\\layla\\\\Documentos\\\\STOCK\\\\ReporteVacios\\\\VentasDesde1122023.xls', '\\\\\\\\layla\\\\Documentos\\\\STOCK\\\\ReporteVacios\\\\VentasDesde1132023.xls', '\\\\\\\\layla\\\\Documentos\\\\STOCK\\\\ReporteVacios\\\\VentasDesde1142023.xls', '\\\\\\\\layla\\\\Documentos\\\\STOCK\\\\ReporteVacios\\\\VentasDesde1152023.xls', '\\\\\\\\layla\\\\Documentos\\\\STOCK\\\\ReporteVacios\\\\VentasDesde1162023.xls', '\\\\\\\\layla\\\\Documentos\\\\STOCK\\\\ReporteVacios\\\\VentasDesde1232023.xls', '\\\\\\\\layla\\\\Documentos\\\\STOCK\\\\ReporteVacios\\\\VentasDesde1242023.xls', '\\\\\\\\layla\\\\Documentos\\\\STOCK\\\\ReporteVacios\\\\VentasDesde1252023.xls', '\\\\\\\\layla\\\\Documentos\\\\STOCK\\\\ReporteVacios\\\\VentasDesde1262023.xls', '\\\\\\\\layla\\\\Documentos\\\\STOCK\\\\ReporteVacios\\\\VentasDesde132023.xls', '\\\\\\\\layla\\\\Documentos\\\\STOCK\\\\ReporteVacios\\\\VentasDesde1322023.xls', '\\\\\\\\layla\\\\Documentos\\\\STOCK\\\\ReporteVacios\\\\VentasDesde1332023.xls', '\\\\\\\\layla\\\\Documentos\\\\STOCK\\\\ReporteVacios\\\\VentasDesde1342023.xls', '\\\\\\\\layla\\\\Documentos\\\\STOCK\\\\ReporteVacios\\\\VentasDesde1352023.xls', '\\\\\\\\layla\\\\Documentos\\\\STOCK\\\\ReporteVacios\\\\VentasDesde1362023.xls', '\\\\\\\\layla\\\\Documentos\\\\STOCK\\\\ReporteVacios\\\\VentasDesde142023.xls', '\\\\\\\\layla\\\\Documentos\\\\STOCK\\\\ReporteVacios\\\\VentasDesde1422023.xls', '\\\\\\\\layla\\\\Documentos\\\\STOCK\\\\ReporteVacios\\\\VentasDesde1432023.xls', '\\\\\\\\layla\\\\Documentos\\\\STOCK\\\\ReporteVacios\\\\VentasDesde1442023.xls', '\\\\\\\\layla\\\\Documentos\\\\STOCK\\\\ReporteVacios\\\\VentasDesde1452023.xls', '\\\\\\\\layla\\\\Documentos\\\\STOCK\\\\ReporteVacios\\\\VentasDesde1462023.xls', '\\\\\\\\layla\\\\Documentos\\\\STOCK\\\\ReporteVacios\\\\VentasDesde152023.xls', '\\\\\\\\layla\\\\Documentos\\\\STOCK\\\\ReporteVacios\\\\VentasDesde1522023.xls', '\\\\\\\\layla\\\\Documentos\\\\STOCK\\\\ReporteVacios\\\\VentasDesde1532023.xls', '\\\\\\\\layla\\\\Documentos\\\\STOCK\\\\ReporteVacios\\\\VentasDesde1542023.xls', '\\\\\\\\layla\\\\Documentos\\\\STOCK\\\\ReporteVacios\\\\VentasDesde1552023.xls', '\\\\\\\\layla\\\\Documentos\\\\STOCK\\\\ReporteVacios\\\\VentasDesde1562023.xls', '\\\\\\\\layla\\\\Documentos\\\\STOCK\\\\ReporteVacios\\\\VentasDesde162023.xls', '\\\\\\\\layla\\\\Documentos\\\\STOCK\\\\ReporteVacios\\\\VentasDesde1622023.xls', '\\\\\\\\layla\\\\Documentos\\\\STOCK\\\\ReporteVacios\\\\VentasDesde1632023.xls', '\\\\\\\\layla\\\\Documentos\\\\STOCK\\\\ReporteVacios\\\\VentasDesde1642023.xls', '\\\\\\\\layla\\\\Documentos\\\\STOCK\\\\ReporteVacios\\\\VentasDesde1652023.xls', '\\\\\\\\layla\\\\Documentos\\\\STOCK\\\\ReporteVacios\\\\VentasDesde1722023.xls', '\\\\\\\\layla\\\\Documentos\\\\STOCK\\\\ReporteVacios\\\\VentasDesde1732023.xls', '\\\\\\\\layla\\\\Documentos\\\\STOCK\\\\ReporteVacios\\\\VentasDesde1742023.xls', '\\\\\\\\layla\\\\Documentos\\\\STOCK\\\\ReporteVacios\\\\VentasDesde1752023.xls', '\\\\\\\\layla\\\\Documentos\\\\STOCK\\\\ReporteVacios\\\\VentasDesde1762023.xls', '\\\\\\\\layla\\\\Documentos\\\\STOCK\\\\ReporteVacios\\\\VentasDesde1822023.xls', '\\\\\\\\layla\\\\Documentos\\\\STOCK\\\\ReporteVacios\\\\VentasDesde1832023.xls', '\\\\\\\\layla\\\\Documentos\\\\STOCK\\\\ReporteVacios\\\\VentasDesde1842023.xls', '\\\\\\\\layla\\\\Documentos\\\\STOCK\\\\ReporteVacios\\\\VentasDesde1852023.xls', '\\\\\\\\layla\\\\Documentos\\\\STOCK\\\\ReporteVacios\\\\VentasDesde1862023.xls', '\\\\\\\\layla\\\\Documentos\\\\STOCK\\\\ReporteVacios\\\\VentasDesde1932023.xls', '\\\\\\\\layla\\\\Documentos\\\\STOCK\\\\ReporteVacios\\\\VentasDesde1942023.xls', '\\\\\\\\layla\\\\Documentos\\\\STOCK\\\\ReporteVacios\\\\VentasDesde1952023.xls', '\\\\\\\\layla\\\\Documentos\\\\STOCK\\\\ReporteVacios\\\\VentasDesde1962023.xls', '\\\\\\\\layla\\\\Documentos\\\\STOCK\\\\ReporteVacios\\\\VentasDesde2032023.xls', '\\\\\\\\layla\\\\Documentos\\\\STOCK\\\\ReporteVacios\\\\VentasDesde2042023.xls', '\\\\\\\\layla\\\\Documentos\\\\STOCK\\\\ReporteVacios\\\\VentasDesde2052023.xls', '\\\\\\\\layla\\\\Documentos\\\\STOCK\\\\ReporteVacios\\\\VentasDesde2122023.xls', '\\\\\\\\layla\\\\Documentos\\\\STOCK\\\\ReporteVacios\\\\VentasDesde2132023.xls', '\\\\\\\\layla\\\\Documentos\\\\STOCK\\\\ReporteVacios\\\\VentasDesde2142023.xls', '\\\\\\\\layla\\\\Documentos\\\\STOCK\\\\ReporteVacios\\\\VentasDesde2152023.xls', '\\\\\\\\layla\\\\Documentos\\\\STOCK\\\\ReporteVacios\\\\VentasDesde222023.xls', '\\\\\\\\layla\\\\Documentos\\\\STOCK\\\\ReporteVacios\\\\VentasDesde2222023.xls', '\\\\\\\\layla\\\\Documentos\\\\STOCK\\\\ReporteVacios\\\\VentasDesde2232023.xls', '\\\\\\\\layla\\\\Documentos\\\\STOCK\\\\ReporteVacios\\\\VentasDesde2242023.xls', '\\\\\\\\layla\\\\Documentos\\\\STOCK\\\\ReporteVacios\\\\VentasDesde2252023.xls', '\\\\\\\\layla\\\\Documentos\\\\STOCK\\\\ReporteVacios\\\\VentasDesde232023.xls', '\\\\\\\\layla\\\\Documentos\\\\STOCK\\\\ReporteVacios\\\\VentasDesde2322023.xls', '\\\\\\\\layla\\\\Documentos\\\\STOCK\\\\ReporteVacios\\\\VentasDesde2332023.xls', '\\\\\\\\layla\\\\Documentos\\\\STOCK\\\\ReporteVacios\\\\VentasDesde2342023.xls', '\\\\\\\\layla\\\\Documentos\\\\STOCK\\\\ReporteVacios\\\\VentasDesde2352023.xls', '\\\\\\\\layla\\\\Documentos\\\\STOCK\\\\ReporteVacios\\\\VentasDesde242023.xls', '\\\\\\\\layla\\\\Documentos\\\\STOCK\\\\ReporteVacios\\\\VentasDesde2422023.xls', '\\\\\\\\layla\\\\Documentos\\\\STOCK\\\\ReporteVacios\\\\VentasDesde2432023.xls', '\\\\\\\\layla\\\\Documentos\\\\STOCK\\\\ReporteVacios\\\\VentasDesde2442023.xls', '\\\\\\\\layla\\\\Documentos\\\\STOCK\\\\ReporteVacios\\\\VentasDesde2452023.xls', '\\\\\\\\layla\\\\Documentos\\\\STOCK\\\\ReporteVacios\\\\VentasDesde252023.xls', '\\\\\\\\layla\\\\Documentos\\\\STOCK\\\\ReporteVacios\\\\VentasDesde2522023.xls', '\\\\\\\\layla\\\\Documentos\\\\STOCK\\\\ReporteVacios\\\\VentasDesde2532023.xls', '\\\\\\\\layla\\\\Documentos\\\\STOCK\\\\ReporteVacios\\\\VentasDesde2542023.xls', '\\\\\\\\layla\\\\Documentos\\\\STOCK\\\\ReporteVacios\\\\VentasDesde2552023.xls', '\\\\\\\\layla\\\\Documentos\\\\STOCK\\\\ReporteVacios\\\\VentasDesde262023.xls', '\\\\\\\\layla\\\\Documentos\\\\STOCK\\\\ReporteVacios\\\\VentasDesde2622023.xls', '\\\\\\\\layla\\\\Documentos\\\\STOCK\\\\ReporteVacios\\\\VentasDesde2632023.xls', '\\\\\\\\layla\\\\Documentos\\\\STOCK\\\\ReporteVacios\\\\VentasDesde2642023.xls', '\\\\\\\\layla\\\\Documentos\\\\STOCK\\\\ReporteVacios\\\\VentasDesde2652023.xls', '\\\\\\\\layla\\\\Documentos\\\\STOCK\\\\ReporteVacios\\\\VentasDesde2722023.xls', '\\\\\\\\layla\\\\Documentos\\\\STOCK\\\\ReporteVacios\\\\VentasDesde2732023.xls', '\\\\\\\\layla\\\\Documentos\\\\STOCK\\\\ReporteVacios\\\\VentasDesde2742023.xls', '\\\\\\\\layla\\\\Documentos\\\\STOCK\\\\ReporteVacios\\\\VentasDesde2752023.xls', '\\\\\\\\layla\\\\Documentos\\\\STOCK\\\\ReporteVacios\\\\VentasDesde2822023.xls', '\\\\\\\\layla\\\\Documentos\\\\STOCK\\\\ReporteVacios\\\\VentasDesde2832023.xls', '\\\\\\\\layla\\\\Documentos\\\\STOCK\\\\ReporteVacios\\\\VentasDesde2842023.xls', '\\\\\\\\layla\\\\Documentos\\\\STOCK\\\\ReporteVacios\\\\VentasDesde2852023.xls', '\\\\\\\\layla\\\\Documentos\\\\STOCK\\\\ReporteVacios\\\\VentasDesde2932023.xls', '\\\\\\\\layla\\\\Documentos\\\\STOCK\\\\ReporteVacios\\\\VentasDesde2942023.xls', '\\\\\\\\layla\\\\Documentos\\\\STOCK\\\\ReporteVacios\\\\VentasDesde2952023.xls', '\\\\\\\\layla\\\\Documentos\\\\STOCK\\\\ReporteVacios\\\\VentasDesde3032023.xls', '\\\\\\\\layla\\\\Documentos\\\\STOCK\\\\ReporteVacios\\\\VentasDesde3042023.xls', '\\\\\\\\layla\\\\Documentos\\\\STOCK\\\\ReporteVacios\\\\VentasDesde3052023.xls', '\\\\\\\\layla\\\\Documentos\\\\STOCK\\\\ReporteVacios\\\\VentasDesde3132023.xls', '\\\\\\\\layla\\\\Documentos\\\\STOCK\\\\ReporteVacios\\\\VentasDesde3152023.xls', '\\\\\\\\layla\\\\Documentos\\\\STOCK\\\\ReporteVacios\\\\VentasDesde322023.xls', '\\\\\\\\layla\\\\Documentos\\\\STOCK\\\\ReporteVacios\\\\VentasDesde332023.xls', '\\\\\\\\layla\\\\Documentos\\\\STOCK\\\\ReporteVacios\\\\VentasDesde342023.xls', '\\\\\\\\layla\\\\Documentos\\\\STOCK\\\\ReporteVacios\\\\VentasDesde352023.xls', '\\\\\\\\layla\\\\Documentos\\\\STOCK\\\\ReporteVacios\\\\VentasDesde362023.xls', '\\\\\\\\layla\\\\Documentos\\\\STOCK\\\\ReporteVacios\\\\VentasDesde422023.xls', '\\\\\\\\layla\\\\Documentos\\\\STOCK\\\\ReporteVacios\\\\VentasDesde432023.xls', '\\\\\\\\layla\\\\Documentos\\\\STOCK\\\\ReporteVacios\\\\VentasDesde442023.xls', '\\\\\\\\layla\\\\Documentos\\\\STOCK\\\\ReporteVacios\\\\VentasDesde452023.xls', '\\\\\\\\layla\\\\Documentos\\\\STOCK\\\\ReporteVacios\\\\VentasDesde462023.xls', '\\\\\\\\layla\\\\Documentos\\\\STOCK\\\\ReporteVacios\\\\VentasDesde532023.xls', '\\\\\\\\layla\\\\Documentos\\\\STOCK\\\\ReporteVacios\\\\VentasDesde542023.xls', '\\\\\\\\layla\\\\Documentos\\\\STOCK\\\\ReporteVacios\\\\VentasDesde552023.xls', '\\\\\\\\layla\\\\Documentos\\\\STOCK\\\\ReporteVacios\\\\VentasDesde562023.xls', '\\\\\\\\layla\\\\Documentos\\\\STOCK\\\\ReporteVacios\\\\VentasDesde622023.xls', '\\\\\\\\layla\\\\Documentos\\\\STOCK\\\\ReporteVacios\\\\VentasDesde632023.xls', '\\\\\\\\layla\\\\Documentos\\\\STOCK\\\\ReporteVacios\\\\VentasDesde642023.xls', '\\\\\\\\layla\\\\Documentos\\\\STOCK\\\\ReporteVacios\\\\VentasDesde652023.xls', '\\\\\\\\layla\\\\Documentos\\\\STOCK\\\\ReporteVacios\\\\VentasDesde662023.xls', '\\\\\\\\layla\\\\Documentos\\\\STOCK\\\\ReporteVacios\\\\VentasDesde722023.xls', '\\\\\\\\layla\\\\Documentos\\\\STOCK\\\\ReporteVacios\\\\VentasDesde732023.xls', '\\\\\\\\layla\\\\Documentos\\\\STOCK\\\\ReporteVacios\\\\VentasDesde742023.xls', '\\\\\\\\layla\\\\Documentos\\\\STOCK\\\\ReporteVacios\\\\VentasDesde752023.xls', '\\\\\\\\layla\\\\Documentos\\\\STOCK\\\\ReporteVacios\\\\VentasDesde762023.xls', '\\\\\\\\layla\\\\Documentos\\\\STOCK\\\\ReporteVacios\\\\VentasDesde822023.xls', '\\\\\\\\layla\\\\Documentos\\\\STOCK\\\\ReporteVacios\\\\VentasDesde832023.xls', '\\\\\\\\layla\\\\Documentos\\\\STOCK\\\\ReporteVacios\\\\VentasDesde842023.xls', '\\\\\\\\layla\\\\Documentos\\\\STOCK\\\\ReporteVacios\\\\VentasDesde852023.xls', '\\\\\\\\layla\\\\Documentos\\\\STOCK\\\\ReporteVacios\\\\VentasDesde862023.xls', '\\\\\\\\layla\\\\Documentos\\\\STOCK\\\\ReporteVacios\\\\VentasDesde922023.xls', '\\\\\\\\layla\\\\Documentos\\\\STOCK\\\\ReporteVacios\\\\VentasDesde932023.xls', '\\\\\\\\layla\\\\Documentos\\\\STOCK\\\\ReporteVacios\\\\VentasDesde942023.xls', '\\\\\\\\layla\\\\Documentos\\\\STOCK\\\\ReporteVacios\\\\VentasDesde952023.xls', '\\\\\\\\layla\\\\Documentos\\\\STOCK\\\\ReporteVacios\\\\VentasDesde962023.xls']\n"
     ]
    }
   ],
   "source": []
  }
 ],
 "metadata": {
  "kernelspec": {
   "display_name": "Python 3",
   "language": "python",
   "name": "python3"
  },
  "language_info": {
   "codemirror_mode": {
    "name": "ipython",
    "version": 3
   },
   "file_extension": ".py",
   "mimetype": "text/x-python",
   "name": "python",
   "nbconvert_exporter": "python",
   "pygments_lexer": "ipython3",
   "version": "3.11.4"
  },
  "orig_nbformat": 4
 },
 "nbformat": 4,
 "nbformat_minor": 2
}
