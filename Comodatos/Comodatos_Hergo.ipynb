{
 "cells": [
  {
   "cell_type": "code",
   "execution_count": 1,
   "metadata": {},
   "outputs": [],
   "source": [
    "import pandas as pd #'Pandas'\n",
    "import schedule #'Para automatizar procesos en funcion del dia'\n",
    "import time \n",
    "import glob #'Para buscar el ultimo archivo en una carpeta'\n",
    "import os\n",
    "import pyexcel as pe\n",
    "from datetime import datetime\n",
    "from tabulate import tabulate\n",
    "from pandas.io.formats import format as pd_format\n",
    "import sys\n",
    "import subprocess\n",
    "from datetime import datetime, timedelta"
   ]
  },
  {
   "cell_type": "code",
   "execution_count": 2,
   "metadata": {},
   "outputs": [
    {
     "data": {
      "text/plain": [
       "CompletedProcess(args='powershell -c \"$excel = New-Object -ComObject Excel.Application; $workbook = $excel.Workbooks.Open(\\'\\\\\\\\layla\\\\Documentos\\\\STOCK\\\\ReporteVacios\\\\VaciosDesde2562023.xls\\'); $workbook.SaveAs(\\'\\\\\\\\layla\\\\Documentos\\\\STOCK\\\\ReporteVacios\\\\VaciosDesde2562023.xlsx\\', 51); $excel.Quit()\"', returncode=0)"
      ]
     },
     "execution_count": 2,
     "metadata": {},
     "output_type": "execute_result"
    }
   ],
   "source": [
    "# COMODATOS\n",
    "\n",
    "directorio_archivos = r\"\\\\layla\\Documentos\\STOCK\\ReporteVacios\"\n",
    "\n",
    "patron_archivo = os.path.join(directorio_archivos, 'Vacios*.xls') #Aca va el tipo de archivo\n",
    "\n",
    "archivos = glob.glob(patron_archivo)\n",
    "\n",
    "archivos = sorted(archivos, key=lambda x: os.path.getmtime(x), reverse=True) #Ordenar archivos por el ultimo modificado\n",
    "\n",
    "archivo_excel_original = archivos[0]\n",
    "\n",
    "archivo_excel_destino = archivo_excel_original + \"x\"\n",
    "\n",
    "# Comando para abrir el archivo de Excel original\n",
    "comando_abrir = 'start \"{}\"'.format(archivo_excel_original)\n",
    "\n",
    "# Ejecutar el comando para abrir el archivo de Excel original\n",
    "subprocess.run(comando_abrir, shell=True)\n",
    "\n",
    "# Esperar unos segundos para asegurarse de que Excel esté abierto y listo\n",
    "# Ajusta este tiempo según sea necesario\n",
    "time.sleep(2)\n",
    "\n",
    "# Comando de PowerShell para guardar el archivo de Excel como .xlsx\n",
    "comando_guardar = 'powershell -c \"$excel = New-Object -ComObject Excel.Application; $workbook = $excel.Workbooks.Open(\\'{}\\'); $workbook.SaveAs(\\'{}\\', 51); $excel.Quit()\"'.format(archivo_excel_original, archivo_excel_destino)\n",
    "\n",
    "# Ejecutar el comando para guardar el archivo de Excel como .xlsx\n",
    "subprocess.run(comando_guardar, shell=False)"
   ]
  },
  {
   "cell_type": "code",
   "execution_count": 3,
   "metadata": {},
   "outputs": [],
   "source": [
    "# CARGAMOS EL ARCHIVO CON SALDOS INICIALES\n",
    "\n",
    "archivo_excel = pd.ExcelFile('../Comodatos/Cortes/Saldos_Iniciales.xlsx')\n",
    "saldo_inicial_preventa = archivo_excel.parse('PREVENTA')\n",
    "saldo_inicial_preventa['cliente'] = saldo_inicial_preventa['cliente'].astype(str)\n",
    "\n",
    "saldo_inicial_SMK = archivo_excel.parse('SMK')\n",
    "saldo_inicial_SMK['cliente'] = saldo_inicial_SMK['cliente'].astype(str).str.zfill(5)\n",
    "\n",
    "saldo_inicial_FLETEROS = archivo_excel.parse('FLETEROS')\n",
    "saldo_inicial_FLETEROS['cliente'] = saldo_inicial_FLETEROS['cliente'].astype(str).str.zfill(5)\n",
    "\n",
    "# FECHA DE SALDOS INICIALES\n",
    "\n",
    "fecha_saldo_inicial_prev = saldo_inicial_preventa.columns[1].strftime('%Y-%m-%d')\n",
    "fecha_saldo_inicial_SMK = saldo_inicial_SMK.columns[1].strftime('%Y-%m-%d')\n",
    "fecha_saldo_inicial_FLETEROS = saldo_inicial_SMK.columns[1].strftime('%Y-%m-%d')"
   ]
  },
  {
   "cell_type": "code",
   "execution_count": 4,
   "metadata": {},
   "outputs": [],
   "source": [
    "directorio_archivos = r'\\\\layla\\\\Documentos\\\\STOCK\\\\ReporteVacios'\n",
    "\n",
    "patron_archivo = os.path.join(directorio_archivos, 'Vacios*.xlsx')\n",
    "\n",
    "archivos = glob.glob(patron_archivo)\n",
    "\n",
    "archivos_ordenados = sorted(archivos, key=lambda x: os.path.getmtime(x), reverse=True)\n",
    "\n"
   ]
  },
  {
   "cell_type": "code",
   "execution_count": 5,
   "metadata": {},
   "outputs": [],
   "source": [
    "import re\n",
    "\n",
    "archivo_comodatos = archivos_ordenados[0]\n",
    "columnas= [ 'articulo', 'cliente', 'fecha', 'haber', 'debe']\n",
    "df_comodatos = pd.read_excel(archivo_comodatos, usecols = columnas)\n",
    "\n",
    "# Limpiar caracteres no numéricos de la columna articulos\n",
    "\n",
    "df_comodatos['articulo'] = df_comodatos['articulo'].apply(lambda x: re.sub('[^0-9]', '', str(x)))\n",
    "\n",
    "df_comodatos['articulo'] = df_comodatos['articulo'].replace('', '0')\n",
    "df_comodatos['articulo'] = df_comodatos['articulo'].astype(float).astype(pd.Int64Dtype())\n"
   ]
  },
  {
   "cell_type": "code",
   "execution_count": 6,
   "metadata": {},
   "outputs": [],
   "source": [
    "#Arreglamos el formato de la fecha\n",
    "\n",
    "def cambiar_formato_fecha(fecha_str):\n",
    "    fecha_obj = datetime.strptime(fecha_str, \"%d-%b-%y\")\n",
    "    return fecha_obj.strftime(\"%d-%m-%Y\")\n",
    "\n",
    "df_comodatos['fecha'] = df_comodatos['fecha'].apply(cambiar_formato_fecha)"
   ]
  },
  {
   "cell_type": "code",
   "execution_count": 7,
   "metadata": {},
   "outputs": [],
   "source": [
    "articulos_especificos = [9346, 9389]\n",
    "\n",
    "df_comodatos = df_comodatos[df_comodatos['articulo'].isin(articulos_especificos)]"
   ]
  },
  {
   "cell_type": "code",
   "execution_count": 8,
   "metadata": {},
   "outputs": [],
   "source": [
    "df_comodatos['fecha'] = pd.to_datetime(df_comodatos['fecha'], format='%d-%m-%Y')\n",
    "df_filtrado = df_comodatos[df_comodatos['fecha'] >= fecha_saldo_inicial_prev]\n",
    "movimientos_sum = df_filtrado.groupby('cliente').agg({'debe': 'sum', 'haber': 'sum'}).reset_index()"
   ]
  },
  {
   "cell_type": "code",
   "execution_count": 9,
   "metadata": {},
   "outputs": [],
   "source": [
    "bd_clientes = pd.read_excel('../Comodatos/bd_clientes.xlsx')"
   ]
  },
  {
   "cell_type": "code",
   "execution_count": 10,
   "metadata": {},
   "outputs": [
    {
     "data": {
      "text/html": [
       "<div>\n",
       "<style scoped>\n",
       "    .dataframe tbody tr th:only-of-type {\n",
       "        vertical-align: middle;\n",
       "    }\n",
       "\n",
       "    .dataframe tbody tr th {\n",
       "        vertical-align: top;\n",
       "    }\n",
       "\n",
       "    .dataframe thead th {\n",
       "        text-align: right;\n",
       "    }\n",
       "</style>\n",
       "<table border=\"1\" class=\"dataframe\">\n",
       "  <thead>\n",
       "    <tr style=\"text-align: right;\">\n",
       "      <th></th>\n",
       "      <th>cliente</th>\n",
       "      <th>debe</th>\n",
       "      <th>haber</th>\n",
       "    </tr>\n",
       "  </thead>\n",
       "  <tbody>\n",
       "    <tr>\n",
       "      <th>22</th>\n",
       "      <td>01021</td>\n",
       "      <td>7484</td>\n",
       "      <td>3900</td>\n",
       "    </tr>\n",
       "    <tr>\n",
       "      <th>62</th>\n",
       "      <td>05687</td>\n",
       "      <td>5199</td>\n",
       "      <td>0</td>\n",
       "    </tr>\n",
       "    <tr>\n",
       "      <th>21</th>\n",
       "      <td>01020</td>\n",
       "      <td>4627</td>\n",
       "      <td>2000</td>\n",
       "    </tr>\n",
       "    <tr>\n",
       "      <th>24</th>\n",
       "      <td>01023</td>\n",
       "      <td>4307</td>\n",
       "      <td>838</td>\n",
       "    </tr>\n",
       "    <tr>\n",
       "      <th>28</th>\n",
       "      <td>01027</td>\n",
       "      <td>3758</td>\n",
       "      <td>307</td>\n",
       "    </tr>\n",
       "    <tr>\n",
       "      <th>...</th>\n",
       "      <td>...</td>\n",
       "      <td>...</td>\n",
       "      <td>...</td>\n",
       "    </tr>\n",
       "    <tr>\n",
       "      <th>72</th>\n",
       "      <td>14048</td>\n",
       "      <td>0</td>\n",
       "      <td>1150</td>\n",
       "    </tr>\n",
       "    <tr>\n",
       "      <th>1</th>\n",
       "      <td>00657</td>\n",
       "      <td>0</td>\n",
       "      <td>70</td>\n",
       "    </tr>\n",
       "    <tr>\n",
       "      <th>60</th>\n",
       "      <td>05657</td>\n",
       "      <td>0</td>\n",
       "      <td>26978</td>\n",
       "    </tr>\n",
       "    <tr>\n",
       "      <th>30</th>\n",
       "      <td>01051</td>\n",
       "      <td>0</td>\n",
       "      <td>10600</td>\n",
       "    </tr>\n",
       "    <tr>\n",
       "      <th>0</th>\n",
       "      <td>00111</td>\n",
       "      <td>0</td>\n",
       "      <td>2</td>\n",
       "    </tr>\n",
       "  </tbody>\n",
       "</table>\n",
       "<p>195 rows × 3 columns</p>\n",
       "</div>"
      ],
      "text/plain": [
       "   cliente  debe  haber\n",
       "22   01021  7484   3900\n",
       "62   05687  5199      0\n",
       "21   01020  4627   2000\n",
       "24   01023  4307    838\n",
       "28   01027  3758    307\n",
       "..     ...   ...    ...\n",
       "72   14048     0   1150\n",
       "1    00657     0     70\n",
       "60   05657     0  26978\n",
       "30   01051     0  10600\n",
       "0    00111     0      2\n",
       "\n",
       "[195 rows x 3 columns]"
      ]
     },
     "execution_count": 10,
     "metadata": {},
     "output_type": "execute_result"
    }
   ],
   "source": [
    "movimientos_sum.sort_values(by = 'debe', ascending= False)"
   ]
  },
  {
   "cell_type": "code",
   "execution_count": 11,
   "metadata": {},
   "outputs": [],
   "source": [
    "#CLIENTES PREVENTA\n",
    "\n",
    "cl_preventa = bd_clientes[bd_clientes['CANAL'] == 'PREVENTA']\n",
    "\n",
    "#CLIENTES MERCADOS\n",
    "\n",
    "cl_SMK = bd_clientes[bd_clientes['CANAL'] == 'SMK']\n",
    "\n",
    "#FLETEROS\n",
    "\n",
    "cl_FLETEROS = bd_clientes[bd_clientes['CANAL'] == 'FLETERO']\n"
   ]
  },
  {
   "attachments": {},
   "cell_type": "markdown",
   "metadata": {},
   "source": [
    "## PREVENTA"
   ]
  },
  {
   "cell_type": "code",
   "execution_count": 12,
   "metadata": {},
   "outputs": [],
   "source": [
    "#CLIENTES PREVENTA\n",
    "\n",
    "cl_preventa = cl_preventa[['Codigo', 'DESCRIPCION']]\n",
    "cl_preventa['Codigo'] = cl_preventa['Codigo'].astype(str)\n",
    "movimientos_sum['cliente'] = movimientos_sum['cliente'].astype(str)\n",
    "cl_preventa.rename(columns={'Codigo' : 'cliente'}, inplace=True) \n",
    "\n",
    "acum_preventa = cl_preventa.merge(movimientos_sum, on= 'cliente', how = 'left')\n",
    "acum_preventa.fillna(0, inplace= True)"
   ]
  },
  {
   "cell_type": "code",
   "execution_count": 13,
   "metadata": {},
   "outputs": [],
   "source": [
    "# UNIMOS SALDOS INICIALES CON EL DF DE LOS MOVIMIENTOS\n",
    "\n",
    "preventa_actualizado = acum_preventa.merge(saldo_inicial_preventa, on = 'cliente', how= 'left')\n",
    "\n",
    "# REEMPLAZAMOS LOS NULOS POR 0\n",
    "preventa_actualizado.fillna(0, inplace = True)\n",
    "\n",
    "# SACAMOS LA FECHA DEL SALDO INICIAL\n",
    "\n",
    "fecha_saldo_inicial =  preventa_actualizado.columns[4]\n",
    "\n",
    "fecha_saldo_formateada = preventa_actualizado.columns[4].strftime('%Y-%m-%d')\n",
    "\n",
    "# ORDENAMOS LAS COLUMNAS A NECESIDAD\n",
    "\n",
    "orden_columnas = ['cliente', 'DESCRIPCION', fecha_saldo_inicial, 'debe', 'haber']\n",
    "preventa_actualizado = preventa_actualizado.reindex(columns= orden_columnas)\n",
    "\n",
    "# AGREGAMOS LA COLUMNA SALDO ACTUALIZADO, QUE SERA IGUAL AL SALDO INCIIAL + DEBE - HABER\n",
    "fecha_acutal = (datetime.now() - timedelta(days=1)).strftime('%Y-%m-%d')\n",
    "nombre_saldo_actualizado = 'Saldo actualizado al ' + fecha_acutal \n",
    "preventa_actualizado[nombre_saldo_actualizado] = preventa_actualizado[fecha_saldo_inicial] + preventa_actualizado['debe'] - preventa_actualizado['haber']\n",
    "preventa_actualizado=preventa_actualizado.rename(columns= {fecha_saldo_inicial : fecha_saldo_formateada})\n",
    "preventa_actualizado=preventa_actualizado.sort_values(by= nombre_saldo_actualizado, ascending = False)\n"
   ]
  },
  {
   "cell_type": "code",
   "execution_count": 14,
   "metadata": {},
   "outputs": [],
   "source": [
    "directorio_archivos = r'H:\\\\STOCK\\\\COMODATOS VACIOS\\\\PREVENTA\\\\'\n",
    "\n",
    "patron_archivo = os.path.join(directorio_archivos, 'Comodatos-Preventa-*.xlsx')\n",
    "\n",
    "archivos = glob.glob(patron_archivo)\n",
    "\n",
    "archivos_ordenados = sorted(archivos, key=lambda x: os.path.getmtime(x), reverse=True)\n",
    "\n",
    "archivo_cmd = pd.ExcelFile(archivos_ordenados[0])\n",
    "\n",
    "df_evolucion = archivo_cmd.parse('Evolucion')\n",
    "\n",
    "df_evolucion = df_evolucion.iloc[:, :-1]\n",
    "\n",
    "# Obtener la lista de todas las columnas de saldo\n",
    "\n",
    "columnas_saldo = df_evolucion.columns[2:]  # Suponiendo que las dos primeras columnas son 'cliente' y 'descrip'\n",
    "\n",
    "# Obtener la diferencia entre el saldo actualizado y los saldos\n",
    "\n",
    "preventa_actualizado = preventa_actualizado.reset_index(drop= True)\n",
    "\n",
    "df_evolucion[fecha_acutal] = preventa_actualizado[nombre_saldo_actualizado] - df_evolucion[columnas_saldo].sum(axis=1)\n",
    "\n",
    "columnas_saldo = df_evolucion.columns[2:]\n",
    "\n",
    "df_evolucion['Saldo_actualizado'] = df_evolucion[columnas_saldo].sum(axis=1)\n"
   ]
  },
  {
   "cell_type": "code",
   "execution_count": 15,
   "metadata": {},
   "outputs": [],
   "source": [
    "# GENERAR EL ARCHIVO CON LOS DATOS ACTUALIZADOS\n",
    "\n",
    "nombre_archivo = 'Comodatos-Preventa-Actualizados-' + fecha_acutal + '.xlsx'\n",
    "\n",
    "ruta_carpeta = '\\\\\\\\layla\\\\Documentos\\\\STOCK\\\\COMODATOS VACIOS\\\\PREVENTA\\\\'\n",
    "\n",
    "ruta_completa = os.path.join(ruta_carpeta, nombre_archivo)\n",
    "\n",
    "preventa_actualizado.to_excel(ruta_completa, index=False)\n",
    "\n",
    "# Crear un objeto ExcelWriter\n",
    "writer = pd.ExcelWriter(ruta_completa, engine='openpyxl')\n",
    "\n",
    "# Guardar el DataFrame principal en la hoja 1\n",
    "preventa_actualizado.to_excel(writer, sheet_name='Preventa', index=False)\n",
    "\n",
    "# Guardar la tabla resumen en una nueva hoja\n",
    "df_evolucion.to_excel(writer, sheet_name='Evolucion', index=False)\n",
    "\n",
    "# Cerrar el escritor\n",
    "writer.close()\n"
   ]
  },
  {
   "attachments": {},
   "cell_type": "markdown",
   "metadata": {},
   "source": [
    "## MERCADO"
   ]
  },
  {
   "attachments": {},
   "cell_type": "markdown",
   "metadata": {},
   "source": [
    "### Vamos a filtrar el df de SMK por la fecha de la ultima actualizacion"
   ]
  },
  {
   "cell_type": "code",
   "execution_count": 16,
   "metadata": {},
   "outputs": [],
   "source": [
    "df_comodatos['fecha'] = pd.to_datetime(df_comodatos['fecha'], format='%d-%m-%Y')\n",
    "df_filtrado_smk = df_comodatos[df_comodatos['fecha'] >= fecha_saldo_inicial_SMK]\n",
    "movimientos_sum_smk = df_filtrado_smk.groupby('cliente').agg({'debe': 'sum', 'haber': 'sum'}).reset_index()"
   ]
  },
  {
   "attachments": {},
   "cell_type": "markdown",
   "metadata": {},
   "source": [
    "### Nos quedamos con los que son clientes de MERCADO (SMK)"
   ]
  },
  {
   "cell_type": "code",
   "execution_count": 17,
   "metadata": {},
   "outputs": [],
   "source": [
    "cl_SMK = cl_SMK[['Codigo', 'DESCRIPCION']] # SOLO NOS INTERESA EL CODIGO Y LA DESCRIPCION\n",
    "cl_SMK['Codigo'] = cl_SMK['Codigo'].astype(str).str.zfill(5) # NORMALIZAMOS EL CODIGO COMO STR PARA QUE DESPUES FUNCIONE EL JOIN\n",
    "movimientos_sum_smk['cliente'] = movimientos_sum_smk['cliente'].astype(str) # IDEM ANTERIOR PARA QUE FUNCIONE EL JOIN\n",
    "cl_SMK.rename(columns={'Codigo' : 'cliente'}, inplace=True) # CAMBIAMOS EL NOMBRE PARA QUE TENGA EL MISMO EN TODAS LAS TABLAS\n",
    "\n",
    "acum_smk = cl_SMK.merge(movimientos_sum_smk, on= 'cliente', how = 'left') # UNIMOS PARA TRAER LA CANTIDAD A CADA CLIENTE\n",
    "acum_smk.fillna(0, inplace= True)  #PONEMOS EN 0 LOS NAN\n",
    "acum_smk['cliente'] = acum_smk['cliente'].astype(str)"
   ]
  },
  {
   "attachments": {},
   "cell_type": "markdown",
   "metadata": {},
   "source": [
    "### Ahora vamos a trabajar con la union y los saldos iniciales para terminar"
   ]
  },
  {
   "cell_type": "code",
   "execution_count": 18,
   "metadata": {},
   "outputs": [],
   "source": [
    "# UNIMOS SALDOS INICIALES CON EL DF DE LOS MOVIMIENTOS\n",
    "\n",
    "smk_actualizado = acum_smk.merge(saldo_inicial_SMK, on = 'cliente', how= 'left')\n",
    "\n",
    "# REEMPLAZAMOS LOS NULOS POR 0\n",
    "\n",
    "smk_actualizado.fillna(0, inplace = True)\n",
    "\n",
    "# SACAMOS LA FECHA DEL SALDO INICIAL\n",
    "\n",
    "fecha_saldo_inicial =  smk_actualizado.columns[4]\n",
    "\n",
    "fecha_saldo_formateada = smk_actualizado.columns[4].strftime('%Y-%m-%d')\n",
    "\n",
    "# ORDENAMOS LAS COLUMNAS A NECESIDAD\n",
    "\n",
    "orden_columnas = ['cliente', 'DESCRIPCION', fecha_saldo_inicial, 'debe', 'haber']\n",
    "smk_actualizado = smk_actualizado.reindex(columns= orden_columnas)\n",
    "\n",
    "# AGREGAMOS LA COLUMNA SALDO ACTUALIZADO, QUE SERA IGUAL AL SALDO INCIIAL + DEBE - HABER\n",
    "fecha_acutal = (datetime.now() - timedelta(days=1)).strftime('%Y-%m-%d')\n",
    "nombre_saldo_actualizado = 'Saldo actualizado al ' + fecha_acutal \n",
    "smk_actualizado[nombre_saldo_actualizado] = smk_actualizado[fecha_saldo_inicial] + smk_actualizado['debe'] - smk_actualizado['haber']\n",
    "smk_actualizado = smk_actualizado.rename(columns= {fecha_saldo_inicial : fecha_saldo_formateada})\n",
    "smk_actualizado = smk_actualizado.sort_values(by= nombre_saldo_actualizado, ascending = False)"
   ]
  },
  {
   "attachments": {},
   "cell_type": "markdown",
   "metadata": {},
   "source": [
    "### Tabla final resumen"
   ]
  },
  {
   "cell_type": "code",
   "execution_count": 19,
   "metadata": {},
   "outputs": [
    {
     "name": "stdout",
     "output_type": "stream",
     "text": [
      "           DESCRIPCION  Saldo actualizado al 2023-06-25\n",
      "3                 COTO                          51648.0\n",
      "0            CARREFOUR                          11746.0\n",
      "4                DISCO                           9293.0\n",
      "7               TOLEDO                           7733.0\n",
      "5                MAKRO                           1490.0\n",
      "2         COOP. OBRERA                            397.0\n",
      "1     DIA ARGENTINA SA                              0.0\n",
      "8                VITAL                              0.0\n",
      "9               YAGUAR                              0.0\n",
      "6                 MAXI                            -31.0\n"
     ]
    }
   ],
   "source": [
    "# Calcular el saldo total por mercado\n",
    "tabla_resumen = smk_actualizado.groupby('DESCRIPCION')[nombre_saldo_actualizado].sum().reset_index().sort_values(by = nombre_saldo_actualizado, ascending= False)\n",
    "\n",
    "print(tabla_resumen)\n"
   ]
  },
  {
   "attachments": {},
   "cell_type": "markdown",
   "metadata": {},
   "source": [
    "### Vamos a cargar el ultimo excel como tabla para adjuntar una nueva columna"
   ]
  },
  {
   "cell_type": "code",
   "execution_count": 20,
   "metadata": {},
   "outputs": [],
   "source": [
    "directorio_archivos = r'H:\\\\STOCK\\\\COMODATOS VACIOS\\\\MERCADO\\\\'\n",
    "\n",
    "patron_archivo = os.path.join(directorio_archivos, 'Comodatos-SMK-*.xlsx')\n",
    "\n",
    "archivos = glob.glob(patron_archivo)\n",
    "\n",
    "archivos_ordenados = sorted(archivos, key=lambda x: os.path.getmtime(x), reverse=True)\n",
    "\n",
    "archivo_cmd = pd.ExcelFile(archivos_ordenados[0])\n",
    "\n",
    "df_evolucion = archivo_cmd.parse('EvolucionSMK')\n",
    "\n",
    "df_evolucion = df_evolucion.iloc[:, :-1]\n",
    "\n",
    "# Obtener la lista de todas las columnas de saldo\n",
    "\n",
    "columnas_saldo = df_evolucion.columns[2:]  # Suponiendo que las dos primeras columnas son 'cliente' y 'descrip'\n",
    "\n",
    "# Obtener la diferencia entre el saldo actualizado y los saldos\n",
    "\n",
    "smk_actualizado = smk_actualizado.reset_index(drop= True)\n",
    "\n",
    "df_evolucion[fecha_acutal] = smk_actualizado[nombre_saldo_actualizado] - df_evolucion[columnas_saldo].sum(axis=1)\n",
    "\n",
    "columnas_saldo = df_evolucion.columns[2:]\n",
    "\n",
    "df_evolucion['Saldo_actualizado'] = df_evolucion[columnas_saldo].sum(axis=1)\n",
    "\n"
   ]
  },
  {
   "attachments": {},
   "cell_type": "markdown",
   "metadata": {},
   "source": [
    "### Guardamos el archivo con los saldos actualizados"
   ]
  },
  {
   "cell_type": "code",
   "execution_count": 21,
   "metadata": {},
   "outputs": [],
   "source": [
    "from openpyxl import Workbook\n",
    "\n",
    "# GENERAR EL ARCHIVO CON LOS DATOS ACTUALIZADOS\n",
    "\n",
    "nombre_archivo = 'Comodatos-SMK-Actualizados-' + fecha_acutal + '.xlsx'\n",
    "\n",
    "ruta_carpeta = '\\\\\\\\layla\\\\Documentos\\\\STOCK\\\\COMODATOS VACIOS\\\\MERCADO\\\\'\n",
    "\n",
    "ruta_completa = os.path.join(ruta_carpeta, nombre_archivo)\n",
    "\n",
    "# Crear un objeto ExcelWriter\n",
    "writer = pd.ExcelWriter(ruta_completa, engine='openpyxl')\n",
    "\n",
    "# Guardar el DataFrame principal en la hoja 1\n",
    "smk_actualizado.to_excel(writer, sheet_name='Detalle SMK', index=False)\n",
    "\n",
    "# Guardar la tabla resumen en una nueva hoja\n",
    "tabla_resumen.to_excel(writer, sheet_name='Tabla Resumen', index=False)\n",
    "\n",
    "# Guardar la tabla resumen en una nueva hoja\n",
    "df_evolucion.to_excel(writer, sheet_name='EvolucionSMK', index=False)\n",
    "\n",
    "# Cerrar el escritor\n",
    "writer.close()"
   ]
  },
  {
   "attachments": {},
   "cell_type": "markdown",
   "metadata": {},
   "source": [
    "## FLETEROS"
   ]
  },
  {
   "attachments": {},
   "cell_type": "markdown",
   "metadata": {},
   "source": [
    "### El procedimiento con los fleteros es similar a las anteriores\n"
   ]
  },
  {
   "cell_type": "code",
   "execution_count": 22,
   "metadata": {},
   "outputs": [],
   "source": [
    "df_comodatos['fecha'] = pd.to_datetime(df_comodatos['fecha'], format='%d-%m-%Y')\n",
    "df_filtrado_fleteros = df_comodatos[df_comodatos['fecha'] >= fecha_saldo_inicial_FLETEROS]\n",
    "movimientos_sum_FLETEROS = df_filtrado_fleteros.groupby('cliente').agg({'debe': 'sum', 'haber': 'sum'}).reset_index()"
   ]
  },
  {
   "cell_type": "code",
   "execution_count": 23,
   "metadata": {},
   "outputs": [],
   "source": [
    "cl_FLETEROS = cl_FLETEROS[['Codigo', 'DESCRIPCION']] # SOLO NOS INTERESA EL CODIGO Y LA DESCRIPCION\n",
    "cl_FLETEROS['Codigo'] = cl_FLETEROS['Codigo'].astype(str).str.zfill(5) # NORMALIZAMOS EL CODIGO COMO STR PARA QUE DESPUES FUNCIONE EL JOIN\n",
    "movimientos_sum_FLETEROS['cliente'] = movimientos_sum_FLETEROS['cliente'].astype(str) # IDEM ANTERIOR PARA QUE FUNCIONE EL JOIN\n",
    "cl_FLETEROS.rename(columns={'Codigo' : 'cliente'}, inplace=True) # CAMBIAMOS EL NOMBRE PARA QUE TENGA EL MISMO EN TODAS LAS TABLAS\n",
    "\n",
    "acum_FLETEROS = cl_FLETEROS.merge(movimientos_sum_FLETEROS, on= 'cliente', how = 'left') # UNIMOS PARA TRAER LA CANTIDAD A CADA CLIENTE\n",
    "acum_FLETEROS.fillna(0, inplace= True)  #PONEMOS EN 0 LOS NAN\n",
    "acum_FLETEROS['cliente'] = acum_FLETEROS['cliente'].astype(str)"
   ]
  },
  {
   "cell_type": "code",
   "execution_count": 24,
   "metadata": {},
   "outputs": [],
   "source": [
    "# UNIMOS SALDOS INICIALES CON EL DF DE LOS MOVIMIENTOS\n",
    "\n",
    "FLETEROS_actualizado = acum_FLETEROS.merge(saldo_inicial_FLETEROS, on = 'cliente', how= 'left')\n",
    "\n",
    "# REEMPLAZAMOS LOS NULOS POR 0\n",
    "\n",
    "FLETEROS_actualizado.fillna(0, inplace = True)\n",
    "\n",
    "# SACAMOS LA FECHA DEL SALDO INICIAL\n",
    "\n",
    "fecha_saldo_inicial =  FLETEROS_actualizado.columns[4]\n",
    "\n",
    "fecha_saldo_formateada = FLETEROS_actualizado.columns[4].strftime('%Y-%m-%d')\n",
    "\n",
    "# ORDENAMOS LAS COLUMNAS A NECESIDAD\n",
    "\n",
    "orden_columnas = ['cliente', 'DESCRIPCION', fecha_saldo_inicial, 'debe', 'haber']\n",
    "FLETEROS_actualizado = FLETEROS_actualizado.reindex(columns= orden_columnas)\n",
    "\n",
    "# AGREGAMOS LA COLUMNA SALDO ACTUALIZADO, QUE SERA IGUAL AL SALDO INCIIAL + DEBE - HABER\n",
    "\n",
    "fecha_acutal = (datetime.now() - timedelta(days=1)).strftime('%Y-%m-%d')\n",
    "nombre_saldo_actualizado = 'Saldo actualizado al ' + fecha_acutal \n",
    "FLETEROS_actualizado[nombre_saldo_actualizado] = FLETEROS_actualizado[fecha_saldo_inicial] + FLETEROS_actualizado['debe'] - FLETEROS_actualizado['haber']\n",
    "FLETEROS_actualizado = FLETEROS_actualizado.rename(columns= {fecha_saldo_inicial : fecha_saldo_formateada})\n",
    "FLETEROS_actualizado = FLETEROS_actualizado.sort_values(by= nombre_saldo_actualizado, ascending = False)"
   ]
  },
  {
   "cell_type": "code",
   "execution_count": 25,
   "metadata": {},
   "outputs": [],
   "source": [
    "directorio_archivos = r'H:\\\\STOCK\\\\COMODATOS VACIOS\\\\FLETEROS\\\\'\n",
    "\n",
    "patron_archivo = os.path.join(directorio_archivos, 'Comodatos-Fleteros*.xlsx')\n",
    "\n",
    "archivos = glob.glob(patron_archivo)\n",
    "\n",
    "archivos_ordenados = sorted(archivos, key=lambda x: os.path.getmtime(x), reverse=True)\n",
    "\n",
    "archivo_cmd = pd.ExcelFile(archivos_ordenados[0])\n",
    "\n",
    "df_evolucion = archivo_cmd.parse('Evolucion')\n",
    "\n",
    "df_evolucion = df_evolucion.iloc[:, :-1]\n",
    "\n",
    "# Obtener la lista de todas las columnas de saldo\n",
    "\n",
    "columnas_saldo = df_evolucion.columns[2:]  # Suponiendo que las dos primeras columnas son 'cliente' y 'descrip'\n",
    "\n",
    "# Obtener la diferencia entre el saldo actualizado y los saldos\n",
    "\n",
    "FLETEROS_actualizado = FLETEROS_actualizado.reset_index(drop= True)\n",
    "\n",
    "df_evolucion[fecha_acutal] = FLETEROS_actualizado[nombre_saldo_actualizado] - df_evolucion[columnas_saldo].sum(axis=1)\n",
    "\n",
    "columnas_saldo = df_evolucion.columns[2:]\n",
    "\n",
    "df_evolucion['Saldo_actualizado'] = df_evolucion[columnas_saldo].sum(axis=1)\n"
   ]
  },
  {
   "cell_type": "code",
   "execution_count": 26,
   "metadata": {},
   "outputs": [],
   "source": [
    "# GENERAR EL ARCHIVO CON LOS DATOS ACTUALIZADOS\n",
    "\n",
    "from openpyxl import Workbook\n",
    "\n",
    "nombre_archivo = 'Comodatos-Fleteros-Actualizados-' + fecha_acutal + '.xlsx'\n",
    "\n",
    "ruta_carpeta = '\\\\\\\\layla\\\\Documentos\\\\STOCK\\\\COMODATOS VACIOS\\\\FLETEROS\\\\'\n",
    "\n",
    "ruta_completa = os.path.join(ruta_carpeta, nombre_archivo)\n",
    "\n",
    "FLETEROS_actualizado.to_excel(ruta_completa, index=False)\n",
    "\n",
    "# Crear un objeto ExcelWriter\n",
    "writer = pd.ExcelWriter(ruta_completa, engine='openpyxl')\n",
    "\n",
    "# Guardar el DataFrame principal en la hoja 1\n",
    "FLETEROS_actualizado.to_excel(writer, sheet_name='Fleteros', index=False)\n",
    "\n",
    "# Guardar la tabla resumen en una nueva hoja\n",
    "df_evolucion.to_excel(writer, sheet_name='Evolucion', index=False)\n",
    "\n",
    "# Cerrar el escritor\n",
    "writer.close()"
   ]
  }
 ],
 "metadata": {
  "kernelspec": {
   "display_name": "Python 3",
   "language": "python",
   "name": "python3"
  },
  "language_info": {
   "codemirror_mode": {
    "name": "ipython",
    "version": 3
   },
   "file_extension": ".py",
   "mimetype": "text/x-python",
   "name": "python",
   "nbconvert_exporter": "python",
   "pygments_lexer": "ipython3",
   "version": "3.11.4"
  },
  "orig_nbformat": 4
 },
 "nbformat": 4,
 "nbformat_minor": 2
}
